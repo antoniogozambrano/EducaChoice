{
 "cells": [
  {
   "cell_type": "code",
   "execution_count": 40,
   "metadata": {},
   "outputs": [],
   "source": [
    "# IMPORTANDO LAS LIBRERIAS NECESARIAS \n",
    "import warnings\n",
    "\n",
    "import matplotlib.pyplot as plt\n",
    "import pandas as pd\n",
    "from IPython.display import VimeoVideo\n",
    "from sklearn.linear_model import LinearRegression\n",
    "from sklearn.metrics import mean_absolute_error\n",
    "from sklearn.utils.validation import check_is_fitted\n",
    "import plotly.express as px\n",
    "import plotly.graph_objects as go\n",
    "from sklearn.pipeline import make_pipeline\n",
    "import numpy as np\n",
    "warnings.simplefilter(action=\"ignore\", category=FutureWarning)\n"
   ]
  },
  {
   "cell_type": "code",
   "execution_count": 4,
   "metadata": {},
   "outputs": [],
   "source": [
    "#Quiero crear un modelo que me permita estimar las calificaciones en función de la localización\n",
    "#Especificamente de lat (LATITUD) & lon (LONGITUD)\n",
    "#Vamos a trabajar unicamente con las notas del curso de octavo básico de la comuna de Maipu.\n",
    "# En un df tengo las notas en otro df tengo las columnas latitud - longitud estan vinculadas por el la columna RBD\n"
   ]
  },
  {
   "cell_type": "code",
   "execution_count": 5,
   "metadata": {},
   "outputs": [],
   "source": [
    "# Defino una wrangle function para ir limpiando la función \n",
    "def wrangle(rutadelarchivo):\n",
    "    # Leer el archivo CSV con punto y coma como delimitador\n",
    "    df = pd.read_csv(rutadelarchivo, delimiter=\";\")\n",
    "    #Establezco una mask por la comuna de Maipu ya que es la comuna de interes\n",
    "    mask_PA=df[\"NOM_COM_RBD\"]==\"MAIPÚ\"\n",
    "    df = df[mask_PA]\n",
    "    #Enmascaro solo por el octavo grado ya que es el que me interesa \n",
    "    mask8=df[\"COD_GRADO\"]==8\n",
    "    df=df[mask8]\n",
    "    return df"
   ]
  },
  {
   "cell_type": "code",
   "execution_count": 6,
   "metadata": {},
   "outputs": [
    {
     "name": "stderr",
     "output_type": "stream",
     "text": [
      "C:\\Users\\amilc\\AppData\\Local\\Temp\\ipykernel_15616\\4088734255.py:4: DtypeWarning: Columns (25) have mixed types. Specify dtype option on import or set low_memory=False.\n",
      "  df = pd.read_csv(rutadelarchivo, delimiter=\";\")\n"
     ]
    },
    {
     "name": "stdout",
     "output_type": "stream",
     "text": [
      "df shape: (7376, 37)\n"
     ]
    },
    {
     "data": {
      "text/html": [
       "<div>\n",
       "<style scoped>\n",
       "    .dataframe tbody tr th:only-of-type {\n",
       "        vertical-align: middle;\n",
       "    }\n",
       "\n",
       "    .dataframe tbody tr th {\n",
       "        vertical-align: top;\n",
       "    }\n",
       "\n",
       "    .dataframe thead th {\n",
       "        text-align: right;\n",
       "    }\n",
       "</style>\n",
       "<table border=\"1\" class=\"dataframe\">\n",
       "  <thead>\n",
       "    <tr style=\"text-align: right;\">\n",
       "      <th></th>\n",
       "      <th>AGNO</th>\n",
       "      <th>RBD</th>\n",
       "      <th>DGV_RBD</th>\n",
       "      <th>NOM_RBD</th>\n",
       "      <th>COD_REG_RBD</th>\n",
       "      <th>NOM_REG_RBD_A</th>\n",
       "      <th>COD_PRO_RBD</th>\n",
       "      <th>COD_COM_RBD</th>\n",
       "      <th>NOM_COM_RBD</th>\n",
       "      <th>COD_DEPROV_RBD</th>\n",
       "      <th>...</th>\n",
       "      <th>COD_COM_ALU</th>\n",
       "      <th>NOM_COM_ALU</th>\n",
       "      <th>COD_RAMA</th>\n",
       "      <th>COD_SEC</th>\n",
       "      <th>COD_ESPE</th>\n",
       "      <th>PROM_GRAL</th>\n",
       "      <th>ASISTENCIA</th>\n",
       "      <th>SIT_FIN</th>\n",
       "      <th>SIT_FIN_R</th>\n",
       "      <th>COD_MEN</th>\n",
       "    </tr>\n",
       "  </thead>\n",
       "  <tbody>\n",
       "    <tr>\n",
       "      <th>1328644</th>\n",
       "      <td>2022</td>\n",
       "      <td>8511</td>\n",
       "      <td>1</td>\n",
       "      <td>LICEO EXPERIMENTAL ARTISTICO B-65</td>\n",
       "      <td>13</td>\n",
       "      <td>RM</td>\n",
       "      <td>131</td>\n",
       "      <td>13119</td>\n",
       "      <td>MAIPÚ</td>\n",
       "      <td>134</td>\n",
       "      <td>...</td>\n",
       "      <td>13126</td>\n",
       "      <td>QUINTA NORMAL</td>\n",
       "      <td>0</td>\n",
       "      <td>0</td>\n",
       "      <td>0</td>\n",
       "      <td>5,4</td>\n",
       "      <td>84</td>\n",
       "      <td>P</td>\n",
       "      <td>P</td>\n",
       "      <td>0</td>\n",
       "    </tr>\n",
       "    <tr>\n",
       "      <th>1328645</th>\n",
       "      <td>2022</td>\n",
       "      <td>8511</td>\n",
       "      <td>1</td>\n",
       "      <td>LICEO EXPERIMENTAL ARTISTICO B-65</td>\n",
       "      <td>13</td>\n",
       "      <td>RM</td>\n",
       "      <td>131</td>\n",
       "      <td>13119</td>\n",
       "      <td>MAIPÚ</td>\n",
       "      <td>134</td>\n",
       "      <td>...</td>\n",
       "      <td>13101</td>\n",
       "      <td>SANTIAGO</td>\n",
       "      <td>0</td>\n",
       "      <td>0</td>\n",
       "      <td>0</td>\n",
       "      <td>6,6</td>\n",
       "      <td>89</td>\n",
       "      <td>P</td>\n",
       "      <td>P</td>\n",
       "      <td>0</td>\n",
       "    </tr>\n",
       "  </tbody>\n",
       "</table>\n",
       "<p>2 rows × 37 columns</p>\n",
       "</div>"
      ],
      "text/plain": [
       "         AGNO   RBD  DGV_RBD                            NOM_RBD  COD_REG_RBD  \\\n",
       "1328644  2022  8511        1  LICEO EXPERIMENTAL ARTISTICO B-65           13   \n",
       "1328645  2022  8511        1  LICEO EXPERIMENTAL ARTISTICO B-65           13   \n",
       "\n",
       "        NOM_REG_RBD_A  COD_PRO_RBD  COD_COM_RBD NOM_COM_RBD  COD_DEPROV_RBD  \\\n",
       "1328644            RM          131        13119       MAIPÚ             134   \n",
       "1328645            RM          131        13119       MAIPÚ             134   \n",
       "\n",
       "         ... COD_COM_ALU    NOM_COM_ALU  COD_RAMA  COD_SEC  COD_ESPE  \\\n",
       "1328644  ...       13126  QUINTA NORMAL         0        0         0   \n",
       "1328645  ...       13101       SANTIAGO         0        0         0   \n",
       "\n",
       "         PROM_GRAL  ASISTENCIA  SIT_FIN SIT_FIN_R  COD_MEN  \n",
       "1328644        5,4          84        P         P        0  \n",
       "1328645        6,6          89        P         P        0  \n",
       "\n",
       "[2 rows x 37 columns]"
      ]
     },
     "execution_count": 6,
     "metadata": {},
     "output_type": "execute_result"
    }
   ],
   "source": [
    "#Establezco la ruta del archivo que va a ser leida en la wrangle function. \n",
    "\n",
    "# Ruta al archivo CSV\n",
    "ruta = \"C:\\\\Users\\\\amilc\\\\Downloads\\\\base_datos\\\\20230209_Rendimiento_2022_20230131_WEB.csv\"\n",
    "\n",
    "# Llamar a la función wrangle para leer el archivo CSV\n",
    "df = wrangle(ruta)\n",
    "\n",
    "# Imprimir la forma del DataFrame y las primeras filas\n",
    "print(\"df shape:\", df.shape)\n",
    "df.head(2)\n"
   ]
  },
  {
   "cell_type": "code",
   "execution_count": 7,
   "metadata": {},
   "outputs": [
    {
     "data": {
      "text/html": [
       "<div>\n",
       "<style scoped>\n",
       "    .dataframe tbody tr th:only-of-type {\n",
       "        vertical-align: middle;\n",
       "    }\n",
       "\n",
       "    .dataframe tbody tr th {\n",
       "        vertical-align: top;\n",
       "    }\n",
       "\n",
       "    .dataframe thead th {\n",
       "        text-align: right;\n",
       "    }\n",
       "</style>\n",
       "<table border=\"1\" class=\"dataframe\">\n",
       "  <thead>\n",
       "    <tr style=\"text-align: right;\">\n",
       "      <th></th>\n",
       "      <th>RBD</th>\n",
       "      <th>NOM_COM_RBD</th>\n",
       "      <th>COD_DEPE</th>\n",
       "      <th>COD_DEPE2</th>\n",
       "      <th>COD_GRADO</th>\n",
       "      <th>PROM_GRAL</th>\n",
       "    </tr>\n",
       "  </thead>\n",
       "  <tbody>\n",
       "    <tr>\n",
       "      <th>1328644</th>\n",
       "      <td>8511</td>\n",
       "      <td>MAIPÚ</td>\n",
       "      <td>5</td>\n",
       "      <td>4</td>\n",
       "      <td>8</td>\n",
       "      <td>5,4</td>\n",
       "    </tr>\n",
       "    <tr>\n",
       "      <th>1328645</th>\n",
       "      <td>8511</td>\n",
       "      <td>MAIPÚ</td>\n",
       "      <td>5</td>\n",
       "      <td>4</td>\n",
       "      <td>8</td>\n",
       "      <td>6,6</td>\n",
       "    </tr>\n",
       "    <tr>\n",
       "      <th>1328646</th>\n",
       "      <td>8511</td>\n",
       "      <td>MAIPÚ</td>\n",
       "      <td>5</td>\n",
       "      <td>4</td>\n",
       "      <td>8</td>\n",
       "      <td>6,2</td>\n",
       "    </tr>\n",
       "    <tr>\n",
       "      <th>1328647</th>\n",
       "      <td>8511</td>\n",
       "      <td>MAIPÚ</td>\n",
       "      <td>5</td>\n",
       "      <td>4</td>\n",
       "      <td>8</td>\n",
       "      <td>6,2</td>\n",
       "    </tr>\n",
       "    <tr>\n",
       "      <th>1328648</th>\n",
       "      <td>8511</td>\n",
       "      <td>MAIPÚ</td>\n",
       "      <td>5</td>\n",
       "      <td>4</td>\n",
       "      <td>8</td>\n",
       "      <td>6,8</td>\n",
       "    </tr>\n",
       "  </tbody>\n",
       "</table>\n",
       "</div>"
      ],
      "text/plain": [
       "          RBD NOM_COM_RBD  COD_DEPE  COD_DEPE2  COD_GRADO PROM_GRAL\n",
       "1328644  8511       MAIPÚ         5          4          8       5,4\n",
       "1328645  8511       MAIPÚ         5          4          8       6,6\n",
       "1328646  8511       MAIPÚ         5          4          8       6,2\n",
       "1328647  8511       MAIPÚ         5          4          8       6,2\n",
       "1328648  8511       MAIPÚ         5          4          8       6,8"
      ]
     },
     "execution_count": 7,
     "metadata": {},
     "output_type": "execute_result"
    }
   ],
   "source": [
    "# Lista de columnas que deseas conservar\n",
    "columns_to_keep = [\"RBD\", \"NOM_COM_RBD\", \"COD_DEPE\", \"COD_DEPE2\", \"COD_GRADO\", \"PROM_GRAL\"]\n",
    "\n",
    "# Crear un nuevo DataFrame dfMA_filtered con las columnas deseadas\n",
    "df1 = df[columns_to_keep]\n",
    "\n",
    "df1.head()"
   ]
  },
  {
   "cell_type": "code",
   "execution_count": 8,
   "metadata": {},
   "outputs": [
    {
     "name": "stderr",
     "output_type": "stream",
     "text": [
      "C:\\Users\\amilc\\AppData\\Local\\Temp\\ipykernel_15616\\2700311694.py:2: SettingWithCopyWarning: \n",
      "A value is trying to be set on a copy of a slice from a DataFrame.\n",
      "Try using .loc[row_indexer,col_indexer] = value instead\n",
      "\n",
      "See the caveats in the documentation: https://pandas.pydata.org/pandas-docs/stable/user_guide/indexing.html#returning-a-view-versus-a-copy\n",
      "  df1[\"PROM_GRAL\"] = pd.to_numeric(df1[\"PROM_GRAL\"].str.replace(\",\", \".\"), errors=\"coerce\")\n"
     ]
    }
   ],
   "source": [
    "# Convertir la columna \"PROM_GRAL\" a valores numéricos\n",
    "df1[\"PROM_GRAL\"] = pd.to_numeric(df1[\"PROM_GRAL\"].str.replace(\",\", \".\"), errors=\"coerce\")\n",
    "\n"
   ]
  },
  {
   "cell_type": "code",
   "execution_count": 10,
   "metadata": {},
   "outputs": [
    {
     "data": {
      "text/html": [
       "<div>\n",
       "<style scoped>\n",
       "    .dataframe tbody tr th:only-of-type {\n",
       "        vertical-align: middle;\n",
       "    }\n",
       "\n",
       "    .dataframe tbody tr th {\n",
       "        vertical-align: top;\n",
       "    }\n",
       "\n",
       "    .dataframe thead th {\n",
       "        text-align: right;\n",
       "    }\n",
       "</style>\n",
       "<table border=\"1\" class=\"dataframe\">\n",
       "  <thead>\n",
       "    <tr style=\"text-align: right;\">\n",
       "      <th></th>\n",
       "      <th>RBD</th>\n",
       "      <th>PROM_GRAL</th>\n",
       "    </tr>\n",
       "  </thead>\n",
       "  <tbody>\n",
       "    <tr>\n",
       "      <th>0</th>\n",
       "      <td>8511</td>\n",
       "      <td>5.330508</td>\n",
       "    </tr>\n",
       "    <tr>\n",
       "      <th>1</th>\n",
       "      <td>8681</td>\n",
       "      <td>5.519565</td>\n",
       "    </tr>\n",
       "    <tr>\n",
       "      <th>2</th>\n",
       "      <td>9863</td>\n",
       "      <td>3.593671</td>\n",
       "    </tr>\n",
       "    <tr>\n",
       "      <th>3</th>\n",
       "      <td>9864</td>\n",
       "      <td>4.626829</td>\n",
       "    </tr>\n",
       "    <tr>\n",
       "      <th>4</th>\n",
       "      <td>9867</td>\n",
       "      <td>5.184000</td>\n",
       "    </tr>\n",
       "    <tr>\n",
       "      <th>5</th>\n",
       "      <td>9876</td>\n",
       "      <td>4.855844</td>\n",
       "    </tr>\n",
       "    <tr>\n",
       "      <th>6</th>\n",
       "      <td>9877</td>\n",
       "      <td>4.913043</td>\n",
       "    </tr>\n",
       "    <tr>\n",
       "      <th>7</th>\n",
       "      <td>9878</td>\n",
       "      <td>5.353226</td>\n",
       "    </tr>\n",
       "    <tr>\n",
       "      <th>8</th>\n",
       "      <td>9881</td>\n",
       "      <td>5.336207</td>\n",
       "    </tr>\n",
       "    <tr>\n",
       "      <th>9</th>\n",
       "      <td>9883</td>\n",
       "      <td>5.087500</td>\n",
       "    </tr>\n",
       "  </tbody>\n",
       "</table>\n",
       "</div>"
      ],
      "text/plain": [
       "    RBD  PROM_GRAL\n",
       "0  8511   5.330508\n",
       "1  8681   5.519565\n",
       "2  9863   3.593671\n",
       "3  9864   4.626829\n",
       "4  9867   5.184000\n",
       "5  9876   4.855844\n",
       "6  9877   4.913043\n",
       "7  9878   5.353226\n",
       "8  9881   5.336207\n",
       "9  9883   5.087500"
      ]
     },
     "execution_count": 10,
     "metadata": {},
     "output_type": "execute_result"
    }
   ],
   "source": [
    "# Agrupar por \"RBD\" y calcular el promedio de \"PROM_GRAL\" para cada grupo\n",
    "df2 = df1.groupby(\"RBD\")[\"PROM_GRAL\"].mean().reset_index()\n",
    "\n",
    "# Ordenar df2 de menor a mayor según el promedio de \"PROM_GRAL\"\n",
    "df2 = df2.sort_values(by=\"RBD\")\n",
    "\n",
    "# Imprimir df2\n",
    "df2.head(10) \n",
    "#De esta manera obtuve un data frame df2 con solo los valores de RBD y PROM_GRAL PARA CADA CURSO DE 8 DE CADA COLEGIO DE MAIPU"
   ]
  },
  {
   "cell_type": "code",
   "execution_count": 11,
   "metadata": {},
   "outputs": [
    {
     "data": {
      "text/plain": [
       "(100, 2)"
      ]
     },
     "execution_count": 11,
     "metadata": {},
     "output_type": "execute_result"
    }
   ],
   "source": [
    "df2.shape"
   ]
  },
  {
   "cell_type": "code",
   "execution_count": 12,
   "metadata": {},
   "outputs": [],
   "source": [
    "#df2 es el que voy a unir con df3 que aun no he producido todavia"
   ]
  },
  {
   "cell_type": "code",
   "execution_count": 13,
   "metadata": {},
   "outputs": [],
   "source": [
    "# Defino una segunda wrangle function para mi segundo csv el que me va a traer lat y lon \n",
    "def wrangle(rutadelarchivo):\n",
    "    # Leer el archivo CSV con punto y coma como delimitador\n",
    "    df = pd.read_csv(rutadelarchivo, delimiter=\";\")\n",
    "    #Establezco una mask por la comuna de Maipu ya que es la comuna de interes\n",
    "    mask_PA=df[\"NOM_COM_RBD\"]==\"MAIPÚ\"\n",
    "    df = df[mask_PA]\n",
    "    #Enmascaro solo por el octavo grado ya que es el que me interesa \n",
    "    #mask8=df[\"COD_GRADO\"]==8\n",
    "    #df=df[mask8]\n",
    "    return df"
   ]
  },
  {
   "cell_type": "code",
   "execution_count": 14,
   "metadata": {},
   "outputs": [
    {
     "name": "stdout",
     "output_type": "stream",
     "text": [
      "df shape: (283, 39)\n"
     ]
    },
    {
     "data": {
      "text/html": [
       "<div>\n",
       "<style scoped>\n",
       "    .dataframe tbody tr th:only-of-type {\n",
       "        vertical-align: middle;\n",
       "    }\n",
       "\n",
       "    .dataframe tbody tr th {\n",
       "        vertical-align: top;\n",
       "    }\n",
       "\n",
       "    .dataframe thead th {\n",
       "        text-align: right;\n",
       "    }\n",
       "</style>\n",
       "<table border=\"1\" class=\"dataframe\">\n",
       "  <thead>\n",
       "    <tr style=\"text-align: right;\">\n",
       "      <th></th>\n",
       "      <th>AGNO</th>\n",
       "      <th>RBD</th>\n",
       "      <th>DGV_RBD</th>\n",
       "      <th>NOM_RBD</th>\n",
       "      <th>MRUN</th>\n",
       "      <th>RUT_SOSTENEDOR</th>\n",
       "      <th>P_JURIDICA</th>\n",
       "      <th>COD_REG_RBD</th>\n",
       "      <th>NOM_REG_RBD_A</th>\n",
       "      <th>COD_PRO_RBD</th>\n",
       "      <th>...</th>\n",
       "      <th>ENS_09</th>\n",
       "      <th>ENS_10</th>\n",
       "      <th>ENS_11</th>\n",
       "      <th>MAT_TOTAL</th>\n",
       "      <th>MATRICULA</th>\n",
       "      <th>ESTADO_ESTAB</th>\n",
       "      <th>ORI_RELIGIOSA</th>\n",
       "      <th>ORI_OTRO_GLOSA</th>\n",
       "      <th>PAGO_MATRICULA</th>\n",
       "      <th>PAGO_MENSUAL</th>\n",
       "    </tr>\n",
       "  </thead>\n",
       "  <tbody>\n",
       "    <tr>\n",
       "      <th>7018</th>\n",
       "      <td>2022</td>\n",
       "      <td>8511</td>\n",
       "      <td>1</td>\n",
       "      <td>LICEO EXPERIMENTAL ARTISTICO B-65</td>\n",
       "      <td></td>\n",
       "      <td>60911000</td>\n",
       "      <td>1</td>\n",
       "      <td>13</td>\n",
       "      <td>RM</td>\n",
       "      <td>131</td>\n",
       "      <td>...</td>\n",
       "      <td>0</td>\n",
       "      <td>0</td>\n",
       "      <td>0</td>\n",
       "      <td>572</td>\n",
       "      <td>1</td>\n",
       "      <td>1</td>\n",
       "      <td>1</td>\n",
       "      <td></td>\n",
       "      <td>GRATUITO</td>\n",
       "      <td>GRATUITO</td>\n",
       "    </tr>\n",
       "    <tr>\n",
       "      <th>7137</th>\n",
       "      <td>2022</td>\n",
       "      <td>8681</td>\n",
       "      <td>9</td>\n",
       "      <td>COLEGIO ANGLO MAIPU</td>\n",
       "      <td></td>\n",
       "      <td>65155247</td>\n",
       "      <td>1</td>\n",
       "      <td>13</td>\n",
       "      <td>RM</td>\n",
       "      <td>131</td>\n",
       "      <td>...</td>\n",
       "      <td>0</td>\n",
       "      <td>0</td>\n",
       "      <td>0</td>\n",
       "      <td>1318</td>\n",
       "      <td>1</td>\n",
       "      <td>1</td>\n",
       "      <td>1</td>\n",
       "      <td></td>\n",
       "      <td>GRATUITO</td>\n",
       "      <td>$25.001 A $50.000</td>\n",
       "    </tr>\n",
       "  </tbody>\n",
       "</table>\n",
       "<p>2 rows × 39 columns</p>\n",
       "</div>"
      ],
      "text/plain": [
       "      AGNO   RBD  DGV_RBD                            NOM_RBD MRUN  \\\n",
       "7018  2022  8511        1  LICEO EXPERIMENTAL ARTISTICO B-65        \n",
       "7137  2022  8681        9                COLEGIO ANGLO MAIPU        \n",
       "\n",
       "     RUT_SOSTENEDOR  P_JURIDICA  COD_REG_RBD NOM_REG_RBD_A  COD_PRO_RBD  ...  \\\n",
       "7018       60911000           1           13            RM          131  ...   \n",
       "7137       65155247           1           13            RM          131  ...   \n",
       "\n",
       "      ENS_09 ENS_10  ENS_11 MAT_TOTAL  MATRICULA  ESTADO_ESTAB  ORI_RELIGIOSA  \\\n",
       "7018       0      0       0       572          1             1              1   \n",
       "7137       0      0       0      1318          1             1              1   \n",
       "\n",
       "     ORI_OTRO_GLOSA PAGO_MATRICULA       PAGO_MENSUAL  \n",
       "7018                      GRATUITO           GRATUITO  \n",
       "7137                      GRATUITO  $25.001 A $50.000  \n",
       "\n",
       "[2 rows x 39 columns]"
      ]
     },
     "execution_count": 14,
     "metadata": {},
     "output_type": "execute_result"
    }
   ],
   "source": [
    "# Ruta al archivo CSV (este es otro csv que me va permitir acceder a las columas lat lon)\n",
    "ruta = \"C:\\\\Users\\\\amilc\\\\Desktop\\\\20220914_Directorio_Oficial_EE_2022_20220430_WEB.csv\"\n",
    "\n",
    "# Llamar a la función wrangle para leer el archivo CSV\n",
    "df = wrangle(ruta)\n",
    "\n",
    "# Imprimir la forma del DataFrame y las primeras filas\n",
    "print(\"df shape:\", df.shape)\n",
    "df.head(2)"
   ]
  },
  {
   "cell_type": "code",
   "execution_count": 15,
   "metadata": {},
   "outputs": [
    {
     "ename": "NameError",
     "evalue": "name 'df3' is not defined",
     "output_type": "error",
     "traceback": [
      "\u001b[1;31m---------------------------------------------------------------------------\u001b[0m",
      "\u001b[1;31mNameError\u001b[0m                                 Traceback (most recent call last)",
      "Cell \u001b[1;32mIn[15], line 1\u001b[0m\n\u001b[1;32m----> 1\u001b[0m df3[\u001b[39m\"\u001b[39m\u001b[39mLATITUD\u001b[39m\u001b[39m\"\u001b[39m] \u001b[39m=\u001b[39m pd\u001b[39m.\u001b[39mto_numeric(df[\u001b[39m\"\u001b[39m\u001b[39mLATITUD\u001b[39m\u001b[39m\"\u001b[39m], errors\u001b[39m=\u001b[39m\u001b[39m\"\u001b[39m\u001b[39mcoerce\u001b[39m\u001b[39m\"\u001b[39m)\n\u001b[0;32m      2\u001b[0m df3[\u001b[39m\"\u001b[39m\u001b[39mLONGITUD\u001b[39m\u001b[39m\"\u001b[39m] \u001b[39m=\u001b[39m pd\u001b[39m.\u001b[39mto_numeric(df[\u001b[39m\"\u001b[39m\u001b[39mLONGITUD\u001b[39m\u001b[39m\"\u001b[39m], errors\u001b[39m=\u001b[39m\u001b[39m\"\u001b[39m\u001b[39mcoerce\u001b[39m\u001b[39m\"\u001b[39m)\n",
      "\u001b[1;31mNameError\u001b[0m: name 'df3' is not defined"
     ]
    }
   ],
   "source": [
    "df3[\"LATITUD\"] = pd.to_numeric(df[\"LATITUD\"], errors=\"coerce\")\n",
    "df3[\"LONGITUD\"] = pd.to_numeric(df[\"LONGITUD\"], errors=\"coerce\")"
   ]
  },
  {
   "cell_type": "code",
   "execution_count": 16,
   "metadata": {},
   "outputs": [
    {
     "data": {
      "text/html": [
       "<div>\n",
       "<style scoped>\n",
       "    .dataframe tbody tr th:only-of-type {\n",
       "        vertical-align: middle;\n",
       "    }\n",
       "\n",
       "    .dataframe tbody tr th {\n",
       "        vertical-align: top;\n",
       "    }\n",
       "\n",
       "    .dataframe thead th {\n",
       "        text-align: right;\n",
       "    }\n",
       "</style>\n",
       "<table border=\"1\" class=\"dataframe\">\n",
       "  <thead>\n",
       "    <tr style=\"text-align: right;\">\n",
       "      <th></th>\n",
       "      <th>RBD</th>\n",
       "      <th>LATITUD</th>\n",
       "      <th>LONGITUD</th>\n",
       "      <th>NOM_COM_RBD</th>\n",
       "      <th>NOM_RBD</th>\n",
       "    </tr>\n",
       "  </thead>\n",
       "  <tbody>\n",
       "    <tr>\n",
       "      <th>7018</th>\n",
       "      <td>8511</td>\n",
       "      <td>-33,432294080000000</td>\n",
       "      <td>-70,68769940999999</td>\n",
       "      <td>MAIPÚ</td>\n",
       "      <td>LICEO EXPERIMENTAL ARTISTICO B-65</td>\n",
       "    </tr>\n",
       "    <tr>\n",
       "      <th>7137</th>\n",
       "      <td>8681</td>\n",
       "      <td>-33,493547010000000</td>\n",
       "      <td>-70,73619742000000</td>\n",
       "      <td>MAIPÚ</td>\n",
       "      <td>COLEGIO ANGLO MAIPU</td>\n",
       "    </tr>\n",
       "    <tr>\n",
       "      <th>7920</th>\n",
       "      <td>9863</td>\n",
       "      <td>-33,505274270000000</td>\n",
       "      <td>-70,75174176000000</td>\n",
       "      <td>MAIPÚ</td>\n",
       "      <td>LICEO SANTIAGO BUERAS Y AVARIA</td>\n",
       "    </tr>\n",
       "    <tr>\n",
       "      <th>7921</th>\n",
       "      <td>9864</td>\n",
       "      <td>-33,503401730000000</td>\n",
       "      <td>-70,76915488000000</td>\n",
       "      <td>MAIPÚ</td>\n",
       "      <td>LICEO JOSE IGNACIO ZENTENO</td>\n",
       "    </tr>\n",
       "    <tr>\n",
       "      <th>7924</th>\n",
       "      <td>9867</td>\n",
       "      <td>-33,509559240000000</td>\n",
       "      <td>-70,74725518000000</td>\n",
       "      <td>MAIPÚ</td>\n",
       "      <td>CENTRO DE EDUC. TECN.PROFESIONAL CODEDUC</td>\n",
       "    </tr>\n",
       "  </tbody>\n",
       "</table>\n",
       "</div>"
      ],
      "text/plain": [
       "       RBD              LATITUD            LONGITUD NOM_COM_RBD  \\\n",
       "7018  8511  -33,432294080000000  -70,68769940999999       MAIPÚ   \n",
       "7137  8681  -33,493547010000000  -70,73619742000000       MAIPÚ   \n",
       "7920  9863  -33,505274270000000  -70,75174176000000       MAIPÚ   \n",
       "7921  9864  -33,503401730000000  -70,76915488000000       MAIPÚ   \n",
       "7924  9867  -33,509559240000000  -70,74725518000000       MAIPÚ   \n",
       "\n",
       "                                       NOM_RBD  \n",
       "7018         LICEO EXPERIMENTAL ARTISTICO B-65  \n",
       "7137                       COLEGIO ANGLO MAIPU  \n",
       "7920            LICEO SANTIAGO BUERAS Y AVARIA  \n",
       "7921                LICEO JOSE IGNACIO ZENTENO  \n",
       "7924  CENTRO DE EDUC. TECN.PROFESIONAL CODEDUC  "
      ]
     },
     "execution_count": 16,
     "metadata": {},
     "output_type": "execute_result"
    }
   ],
   "source": [
    "\n",
    "\n",
    "# Lista de columnas que deseas conservar\n",
    "columns_to_keep = [\"RBD\", \"LATITUD\", \"LONGITUD\", \"NOM_COM_RBD\",\"NOM_RBD\"]\n",
    "\n",
    "# Crear un nuevo DataFrame df3 con las columnas deseadas\n",
    "df3 = df[columns_to_keep].copy()\n",
    "\n",
    "df3.head()\n",
    "\n",
    "\n",
    "\n",
    "\n",
    "\n",
    "\n",
    "\n",
    "\n"
   ]
  },
  {
   "cell_type": "code",
   "execution_count": 17,
   "metadata": {},
   "outputs": [
    {
     "data": {
      "text/html": [
       "<div>\n",
       "<style scoped>\n",
       "    .dataframe tbody tr th:only-of-type {\n",
       "        vertical-align: middle;\n",
       "    }\n",
       "\n",
       "    .dataframe tbody tr th {\n",
       "        vertical-align: top;\n",
       "    }\n",
       "\n",
       "    .dataframe thead th {\n",
       "        text-align: right;\n",
       "    }\n",
       "</style>\n",
       "<table border=\"1\" class=\"dataframe\">\n",
       "  <thead>\n",
       "    <tr style=\"text-align: right;\">\n",
       "      <th></th>\n",
       "      <th>RBD</th>\n",
       "      <th>LATITUD</th>\n",
       "      <th>LONGITUD</th>\n",
       "      <th>NOM_COM_RBD</th>\n",
       "      <th>NOM_RBD</th>\n",
       "    </tr>\n",
       "  </thead>\n",
       "  <tbody>\n",
       "    <tr>\n",
       "      <th>7018</th>\n",
       "      <td>8511</td>\n",
       "      <td>-33.432</td>\n",
       "      <td>-70.688</td>\n",
       "      <td>MAIPÚ</td>\n",
       "      <td>LICEO EXPERIMENTAL ARTISTICO B-65</td>\n",
       "    </tr>\n",
       "    <tr>\n",
       "      <th>7137</th>\n",
       "      <td>8681</td>\n",
       "      <td>-33.494</td>\n",
       "      <td>-70.736</td>\n",
       "      <td>MAIPÚ</td>\n",
       "      <td>COLEGIO ANGLO MAIPU</td>\n",
       "    </tr>\n",
       "    <tr>\n",
       "      <th>7920</th>\n",
       "      <td>9863</td>\n",
       "      <td>-33.505</td>\n",
       "      <td>-70.752</td>\n",
       "      <td>MAIPÚ</td>\n",
       "      <td>LICEO SANTIAGO BUERAS Y AVARIA</td>\n",
       "    </tr>\n",
       "    <tr>\n",
       "      <th>7921</th>\n",
       "      <td>9864</td>\n",
       "      <td>-33.503</td>\n",
       "      <td>-70.769</td>\n",
       "      <td>MAIPÚ</td>\n",
       "      <td>LICEO JOSE IGNACIO ZENTENO</td>\n",
       "    </tr>\n",
       "    <tr>\n",
       "      <th>7924</th>\n",
       "      <td>9867</td>\n",
       "      <td>-33.510</td>\n",
       "      <td>-70.747</td>\n",
       "      <td>MAIPÚ</td>\n",
       "      <td>CENTRO DE EDUC. TECN.PROFESIONAL CODEDUC</td>\n",
       "    </tr>\n",
       "  </tbody>\n",
       "</table>\n",
       "</div>"
      ],
      "text/plain": [
       "       RBD  LATITUD  LONGITUD NOM_COM_RBD  \\\n",
       "7018  8511  -33.432   -70.688       MAIPÚ   \n",
       "7137  8681  -33.494   -70.736       MAIPÚ   \n",
       "7920  9863  -33.505   -70.752       MAIPÚ   \n",
       "7921  9864  -33.503   -70.769       MAIPÚ   \n",
       "7924  9867  -33.510   -70.747       MAIPÚ   \n",
       "\n",
       "                                       NOM_RBD  \n",
       "7018         LICEO EXPERIMENTAL ARTISTICO B-65  \n",
       "7137                       COLEGIO ANGLO MAIPU  \n",
       "7920            LICEO SANTIAGO BUERAS Y AVARIA  \n",
       "7921                LICEO JOSE IGNACIO ZENTENO  \n",
       "7924  CENTRO DE EDUC. TECN.PROFESIONAL CODEDUC  "
      ]
     },
     "execution_count": 17,
     "metadata": {},
     "output_type": "execute_result"
    }
   ],
   "source": [
    "# Reemplazar comas por puntos y convertir a valores numéricos\n",
    "df3[\"LATITUD\"] = pd.to_numeric(df3[\"LATITUD\"].str.replace(\",\", \".\"), errors=\"coerce\")\n",
    "df3[\"LONGITUD\"] = pd.to_numeric(df3[\"LONGITUD\"].str.replace(\",\", \".\"), errors=\"coerce\")\n",
    "\n",
    "# Redondear los valores de LATITUD y LONGITUD a 3 decimales\n",
    "df3[\"LATITUD\"] = df3[\"LATITUD\"].round(3)\n",
    "df3[\"LONGITUD\"] = df3[\"LONGITUD\"].round(3)\n",
    "\n",
    "df3.head()"
   ]
  },
  {
   "cell_type": "code",
   "execution_count": 18,
   "metadata": {},
   "outputs": [
    {
     "data": {
      "text/html": [
       "<div>\n",
       "<style scoped>\n",
       "    .dataframe tbody tr th:only-of-type {\n",
       "        vertical-align: middle;\n",
       "    }\n",
       "\n",
       "    .dataframe tbody tr th {\n",
       "        vertical-align: top;\n",
       "    }\n",
       "\n",
       "    .dataframe thead th {\n",
       "        text-align: right;\n",
       "    }\n",
       "</style>\n",
       "<table border=\"1\" class=\"dataframe\">\n",
       "  <thead>\n",
       "    <tr style=\"text-align: right;\">\n",
       "      <th></th>\n",
       "      <th>RBD</th>\n",
       "      <th>LATITUD</th>\n",
       "      <th>LONGITUD</th>\n",
       "      <th>NOM_COM_RBD</th>\n",
       "      <th>NOM_RBD</th>\n",
       "    </tr>\n",
       "  </thead>\n",
       "  <tbody>\n",
       "    <tr>\n",
       "      <th>7018</th>\n",
       "      <td>8511</td>\n",
       "      <td>-33.432</td>\n",
       "      <td>-70.688</td>\n",
       "      <td>MAIPÚ</td>\n",
       "      <td>LICEO EXPERIMENTAL ARTISTICO B-65</td>\n",
       "    </tr>\n",
       "    <tr>\n",
       "      <th>7137</th>\n",
       "      <td>8681</td>\n",
       "      <td>-33.494</td>\n",
       "      <td>-70.736</td>\n",
       "      <td>MAIPÚ</td>\n",
       "      <td>COLEGIO ANGLO MAIPU</td>\n",
       "    </tr>\n",
       "    <tr>\n",
       "      <th>7920</th>\n",
       "      <td>9863</td>\n",
       "      <td>-33.505</td>\n",
       "      <td>-70.752</td>\n",
       "      <td>MAIPÚ</td>\n",
       "      <td>LICEO SANTIAGO BUERAS Y AVARIA</td>\n",
       "    </tr>\n",
       "    <tr>\n",
       "      <th>7921</th>\n",
       "      <td>9864</td>\n",
       "      <td>-33.503</td>\n",
       "      <td>-70.769</td>\n",
       "      <td>MAIPÚ</td>\n",
       "      <td>LICEO JOSE IGNACIO ZENTENO</td>\n",
       "    </tr>\n",
       "    <tr>\n",
       "      <th>7924</th>\n",
       "      <td>9867</td>\n",
       "      <td>-33.510</td>\n",
       "      <td>-70.747</td>\n",
       "      <td>MAIPÚ</td>\n",
       "      <td>CENTRO DE EDUC. TECN.PROFESIONAL CODEDUC</td>\n",
       "    </tr>\n",
       "  </tbody>\n",
       "</table>\n",
       "</div>"
      ],
      "text/plain": [
       "       RBD  LATITUD  LONGITUD NOM_COM_RBD  \\\n",
       "7018  8511  -33.432   -70.688       MAIPÚ   \n",
       "7137  8681  -33.494   -70.736       MAIPÚ   \n",
       "7920  9863  -33.505   -70.752       MAIPÚ   \n",
       "7921  9864  -33.503   -70.769       MAIPÚ   \n",
       "7924  9867  -33.510   -70.747       MAIPÚ   \n",
       "\n",
       "                                       NOM_RBD  \n",
       "7018         LICEO EXPERIMENTAL ARTISTICO B-65  \n",
       "7137                       COLEGIO ANGLO MAIPU  \n",
       "7920            LICEO SANTIAGO BUERAS Y AVARIA  \n",
       "7921                LICEO JOSE IGNACIO ZENTENO  \n",
       "7924  CENTRO DE EDUC. TECN.PROFESIONAL CODEDUC  "
      ]
     },
     "execution_count": 18,
     "metadata": {},
     "output_type": "execute_result"
    }
   ],
   "source": [
    "# Ordenar el DataFrame df3 por la columna \"RBD\" de menor a mayor\n",
    "df3_orden = df3.sort_values(by=\"RBD\")\n",
    "\n",
    "df3_orden.head()\n",
    "\n"
   ]
  },
  {
   "cell_type": "code",
   "execution_count": 19,
   "metadata": {},
   "outputs": [
    {
     "data": {
      "text/plain": [
       "(283, 5)"
      ]
     },
     "execution_count": 19,
     "metadata": {},
     "output_type": "execute_result"
    }
   ],
   "source": [
    "df3_orden.shape"
   ]
  },
  {
   "cell_type": "code",
   "execution_count": 20,
   "metadata": {},
   "outputs": [
    {
     "data": {
      "text/html": [
       "<div>\n",
       "<style scoped>\n",
       "    .dataframe tbody tr th:only-of-type {\n",
       "        vertical-align: middle;\n",
       "    }\n",
       "\n",
       "    .dataframe tbody tr th {\n",
       "        vertical-align: top;\n",
       "    }\n",
       "\n",
       "    .dataframe thead th {\n",
       "        text-align: right;\n",
       "    }\n",
       "</style>\n",
       "<table border=\"1\" class=\"dataframe\">\n",
       "  <thead>\n",
       "    <tr style=\"text-align: right;\">\n",
       "      <th></th>\n",
       "      <th>RBD</th>\n",
       "      <th>PROM_GRAL</th>\n",
       "      <th>LATITUD</th>\n",
       "      <th>LONGITUD</th>\n",
       "      <th>NOM_COM_RBD</th>\n",
       "      <th>NOM_RBD</th>\n",
       "    </tr>\n",
       "  </thead>\n",
       "  <tbody>\n",
       "    <tr>\n",
       "      <th>0</th>\n",
       "      <td>8511</td>\n",
       "      <td>5.330508</td>\n",
       "      <td>-33.432</td>\n",
       "      <td>-70.688</td>\n",
       "      <td>MAIPÚ</td>\n",
       "      <td>LICEO EXPERIMENTAL ARTISTICO B-65</td>\n",
       "    </tr>\n",
       "    <tr>\n",
       "      <th>1</th>\n",
       "      <td>8681</td>\n",
       "      <td>5.519565</td>\n",
       "      <td>-33.494</td>\n",
       "      <td>-70.736</td>\n",
       "      <td>MAIPÚ</td>\n",
       "      <td>COLEGIO ANGLO MAIPU</td>\n",
       "    </tr>\n",
       "    <tr>\n",
       "      <th>2</th>\n",
       "      <td>9863</td>\n",
       "      <td>3.593671</td>\n",
       "      <td>-33.505</td>\n",
       "      <td>-70.752</td>\n",
       "      <td>MAIPÚ</td>\n",
       "      <td>LICEO SANTIAGO BUERAS Y AVARIA</td>\n",
       "    </tr>\n",
       "    <tr>\n",
       "      <th>3</th>\n",
       "      <td>9864</td>\n",
       "      <td>4.626829</td>\n",
       "      <td>-33.503</td>\n",
       "      <td>-70.769</td>\n",
       "      <td>MAIPÚ</td>\n",
       "      <td>LICEO JOSE IGNACIO ZENTENO</td>\n",
       "    </tr>\n",
       "    <tr>\n",
       "      <th>4</th>\n",
       "      <td>9867</td>\n",
       "      <td>5.184000</td>\n",
       "      <td>-33.510</td>\n",
       "      <td>-70.747</td>\n",
       "      <td>MAIPÚ</td>\n",
       "      <td>CENTRO DE EDUC. TECN.PROFESIONAL CODEDUC</td>\n",
       "    </tr>\n",
       "  </tbody>\n",
       "</table>\n",
       "</div>"
      ],
      "text/plain": [
       "    RBD  PROM_GRAL  LATITUD  LONGITUD NOM_COM_RBD  \\\n",
       "0  8511   5.330508  -33.432   -70.688       MAIPÚ   \n",
       "1  8681   5.519565  -33.494   -70.736       MAIPÚ   \n",
       "2  9863   3.593671  -33.505   -70.752       MAIPÚ   \n",
       "3  9864   4.626829  -33.503   -70.769       MAIPÚ   \n",
       "4  9867   5.184000  -33.510   -70.747       MAIPÚ   \n",
       "\n",
       "                                    NOM_RBD  \n",
       "0         LICEO EXPERIMENTAL ARTISTICO B-65  \n",
       "1                       COLEGIO ANGLO MAIPU  \n",
       "2            LICEO SANTIAGO BUERAS Y AVARIA  \n",
       "3                LICEO JOSE IGNACIO ZENTENO  \n",
       "4  CENTRO DE EDUC. TECN.PROFESIONAL CODEDUC  "
      ]
     },
     "execution_count": 20,
     "metadata": {},
     "output_type": "execute_result"
    }
   ],
   "source": [
    "#Vamos a realizar un merge en df2[\"RBD\"] para mostrar los colegios y los promedios generales de 8vo con su lat y lon \n",
    "\n",
    "\n",
    "# Realizar la fusión basada en la columna \"RBD\" de df2 y df3_orden\n",
    "dflatlon = df2.merge(df3_orden, on=\"RBD\")\n",
    "\n",
    "dflatlon.head()\n"
   ]
  },
  {
   "cell_type": "code",
   "execution_count": 21,
   "metadata": {},
   "outputs": [
    {
     "data": {
      "application/vnd.plotly.v1+json": {
       "config": {
        "plotlyServerURL": "https://plot.ly"
       },
       "data": [
        {
         "customdata": [
          [
           5.33,
           "LICEO EXPERIMENTAL ARTISTICO B-65"
          ],
          [
           5.52,
           "COLEGIO ANGLO MAIPU"
          ],
          [
           3.59,
           "LICEO SANTIAGO BUERAS Y AVARIA"
          ],
          [
           4.63,
           "LICEO JOSE IGNACIO ZENTENO"
          ],
          [
           5.18,
           "CENTRO DE EDUC. TECN.PROFESIONAL CODEDUC"
          ],
          [
           4.86,
           "ESCUELA GENERAL SAN MARTIN"
          ],
          [
           4.91,
           "ESCUELA GENERAL OHIGGINS"
          ],
          [
           5.35,
           "ESCUELA PRESIDENTE RIESCO ERRAZURIZ"
          ],
          [
           5.34,
           "ESCUELA VICENTE REYES PALAZUELOS"
          ],
          [
           5.09,
           "ESCUELA BÁSICA N 263 RAMON FREIRE"
          ],
          [
           5.98,
           "ESCUELA LEON HUMBERTO VALENZUELA"
          ],
          [
           4.35,
           "ESCUELA EL LLANO DE MAIPU"
          ],
          [
           4.54,
           "LICEO REINO DE DINAMARCA"
          ],
          [
           5.52,
           "ESCUELA TOMAS VARGAS"
          ],
          [
           5.55,
           "REPUBLICA DE GUATEMALA"
          ],
          [
           5.29,
           "ESCUELA LAS AMERICAS"
          ],
          [
           5.18,
           "ESCUELA BASICA REINA DE SUECIA"
          ],
          [
           5.98,
           "LICEO SAN PEDRO POVEDA"
          ],
          [
           5.56,
           "ESCUELA PARTICULAR INSTITUTO AMERICA"
          ],
          [
           5.48,
           "COLEGIO POLIVALENTE CAMILO HENRIQUEZ"
          ],
          [
           4.92,
           "CENTRO EDUCACIONAL PIAMARTINO CAROLINA LLONA DE CUEVAS"
          ],
          [
           5.71,
           "COLEGIO PARTICULAR SAN FELIX"
          ],
          [
           5.72,
           "COLEGIO DE LA PROVIDENCIA C.LARRAIN DE I"
          ],
          [
           4.89,
           "COLEGIO POLIVALENTE PATRICIO MEKIS"
          ],
          [
           5.89,
           "COLEGIO ALBERTO PEREZ"
          ],
          [
           5.42,
           "COLEGIO SOFIA INFANTE HURTADO"
          ],
          [
           5.87,
           "LICEO MATER PURISSIMA"
          ],
          [
           5.9,
           "COLEGIO PARTICULAR DE ASIS"
          ],
          [
           5.47,
           "COLEGIO ELLEN COLLEGE"
          ],
          [
           5.14,
           "COLEGIO EL REDENTOR"
          ],
          [
           5.84,
           "CENTRO EDUCACIONAL SAN ANDRES"
          ],
          [
           4.96,
           "COLEGIO ROSITA SANCHEZ"
          ],
          [
           5.38,
           "COMPLEJO EDUCACIONAL MAIPU"
          ],
          [
           6.41,
           "ESCUELA PARTICULAR RUBEN DARIO"
          ],
          [
           6.11,
           "COLEGIO SANTA URSULA"
          ],
          [
           5.52,
           "ESCUELA BASICA  1287 SAN MARCOS APOSTOL"
          ],
          [
           4.51,
           "COLEGIO JACQUES COUSTEAU"
          ],
          [
           5.44,
           "COLEGIO LO ERRAZURIZ"
          ],
          [
           5.4,
           "COLEGIO ALCAZAR"
          ],
          [
           4.32,
           "ESCUELA BASICA PARTICULAR KIND`S SCHOOL"
          ],
          [
           5.57,
           "COMPLEJO EDUCACIONAL ALBERTO WIDMER"
          ],
          [
           6.71,
           "COLEGIO INTERNACIONAL  ALBA"
          ],
          [
           5.09,
           "ESCUELA BÁSICA MUNICIPAL SAN LUIS"
          ],
          [
           5.62,
           "COLEGIO SAN FRANCISCO MISIONERO"
          ],
          [
           5.75,
           "COLEGIO EL REDENTOR"
          ],
          [
           5.85,
           "COLEGIO CENTENARIO"
          ],
          [
           5.55,
           "ESCUELA BASICA LOS BOSQUINOS"
          ],
          [
           5.28,
           "ESC. BASICA BOSTON COLLEGE MAIPU"
          ],
          [
           5.52,
           "ESCUELA PART. PEHUEN"
          ],
          [
           4.33,
           "ESCUELA BASICA SAINT FRANCIS COLLEGE"
          ],
          [
           5.05,
           "ESC. PARTICULAR ALFARERO"
          ],
          [
           5.4,
           "COLEGIO VICTORIANO"
          ],
          [
           5.62,
           "COLEGIO SAN NICOLAS DE MAIPU"
          ],
          [
           5.27,
           "COLEGIO MUNIC.  SAN SEBASTIAN DE RINCONADA"
          ],
          [
           5.52,
           "COL.PARTICULAR SAN VALENTIN DE MAIPU"
          ],
          [
           5.67,
           "COLEGIO SANTA MARIA DE MAIPU"
          ],
          [
           6.36,
           "ESC. PART. CHRIST SCHOOL"
          ],
          [
           3.76,
           "ESC.BAS.NUEVOS CASTANOS DE MAIPU"
          ],
          [
           5.28,
           "ESCUELA BÁSICA 1737 LOS ALERCES DE MAIPÚ"
          ],
          [
           5.91,
           "INSTITUTO CRISTIANO LUIS GANDARILLAS"
          ],
          [
           5.31,
           "ESCUELA BASICA PART. CRISTIANO DE LOS HEROES"
          ],
          [
           5.76,
           "ESC. PART. CRISTIANO ORIENTE"
          ],
          [
           5.57,
           "COLEGIO PART. CARDENAL CARLOS OVIEDO CAVADA"
          ],
          [
           5.59,
           "COLEGIO PARTICULAR ALICANTE"
          ],
          [
           6.06,
           "ESCUELA HERMANOS CARRERA"
          ],
          [
           5,
           "COLEGIO PART. KING EDWARDS SCHOOL I"
          ],
          [
           5.77,
           "COLEGIO INSTITUTO O¦HIGGINS DE MAIPU"
          ],
          [
           6.12,
           "ESC. PART. ARTISTICA EL TRIGAL"
          ],
          [
           5.52,
           "COLEGIO SAN ANDRES DE MAIPU"
          ],
          [
           5.36,
           "ESC. BASICA PART. BOSTON COLLEGE LA FARFANA"
          ],
          [
           5.39,
           "ESCUELA INSTITUTO RAMON FREIRE"
          ],
          [
           5.48,
           "ESCUELA BASICA  N°1921 SISTER VERENANCE"
          ],
          [
           5.35,
           "COLEGIO OXFORD"
          ],
          [
           5.26,
           "COLEGIO LOS ALPES MAIPU"
          ],
          [
           5.54,
           "COLEGIO NTRA. SRA. DEL CARMEN DE MAIPU"
          ],
          [
           5.52,
           "COLEGIO PART. ALICANTE DEL ROSAL"
          ],
          [
           5.67,
           "LINCOLN COLLEGE SAN MARTIN"
          ],
          [
           5.57,
           "LICEO NACIONAL DE MAIPU"
          ],
          [
           6.12,
           "COLEGIO PART. ROYAL AMERICAN SCHOOL"
          ],
          [
           4.82,
           "COLEGIO POLIV. DIEGO PORTALES DE MAIPU"
          ],
          [
           5.39,
           "ESC. BAS. PART. LAS NACIONES"
          ],
          [
           5.75,
           "ESCUELA DE LAS ARTES Y LA TECNOLOGIA"
          ],
          [
           5.6,
           "COLEGIO DEL VALLE"
          ],
          [
           5.22,
           "ESC. PART. EL ARRAYAN DE MAIPU"
          ],
          [
           5.79,
           "COLEGIO INTERCULTURAL TREMEMN"
          ],
          [
           5.13,
           "COLEGIO CENTRO EDUCACIONAL ROUSSEAU"
          ],
          [
           5.6,
           "COLEGIO DEL REAL"
          ],
          [
           4.78,
           "COLEGIO SAN JUAN DIEGO DE GUADALUPE"
          ],
          [
           5.38,
           "ESCUELA BAS. ECHAURREN N° 2"
          ],
          [
           5.64,
           "COLEGIO SAINT LOUIS SCHOOL"
          ],
          [
           6.01,
           "COLEGIO SAN FRANCISCO DE SALES"
          ],
          [
           5.02,
           "ESC. ALTAS CUMBRES DEL ROSAL"
          ],
          [
           4.62,
           "COLEGIO ALVARO LAVÍN"
          ],
          [
           5.24,
           "COLEGIO TERRAUSTRAL DEL SOL"
          ],
          [
           5.51,
           "COLEGIO TERRAUSTRAL OESTE S.A"
          ],
          [
           5.73,
           "LICEO TECNOLOGICO BICENTENARIO ENRIQUE KIRBERG BALTIANSKY"
          ],
          [
           5.2,
           "LICEO BICENTENARIO DE NIÑAS DE MAIPU"
          ],
          [
           5.1,
           "COLEGIO SAN ANDRES MAIPU EL BOSQUE"
          ],
          [
           2.7,
           "ESCUELA HOSPITALARIA EL CARMEN DE MAIPU"
          ],
          [
           4.88,
           "ESCUELA INTERNACIONAL DE LIDERES CORONEL SANTIAGO BUERAS Y AVARIA"
          ]
         ],
         "hovertemplate": "LATITUD=%{lat}<br>LONGITUD=%{lon}<br>PROM_GRAL=%{marker.color}<br>NOM_RBD=%{customdata[1]}<extra></extra>",
         "lat": [
          -33.432,
          -33.494,
          -33.505,
          -33.503,
          -33.51,
          -33.51,
          -33.51,
          -33.526,
          -33.517,
          -33.499,
          -33.497,
          -33.517,
          -33.507,
          -33.5,
          -33.498,
          -33.548,
          -33.474,
          -33.496,
          -33.508,
          -33.515,
          -33.515,
          -33.5,
          -33.516,
          -33.511,
          -33.5,
          -33.526,
          -33.505,
          -33.511,
          -33.504,
          -33.503,
          -33.485,
          -33.527,
          -33.517,
          -33.519,
          -33.511,
          -33.545,
          -33.516,
          -33.474,
          -33.557,
          -33.496,
          -33.502,
          -33.481,
          -33.512,
          -33.565,
          -33.502,
          -33.5,
          -33.529,
          -33.467,
          -33.504,
          -33.506,
          -33.531,
          -33.512,
          -33.505,
          -33.509,
          -33.508,
          -33.484,
          -33.509,
          -33.509,
          -33.539,
          -33.504,
          -33.51,
          -33.475,
          -33.514,
          -33.475,
          -33.504,
          -33.525,
          -33.506,
          -33.5,
          -33.488,
          -33.49,
          -33.524,
          -33.507,
          -33.506,
          -33.565,
          -33.513,
          -33.491,
          -33.524,
          -33.519,
          -33.503,
          -33.51,
          -33.522,
          -33.5,
          -33.552,
          -33.48,
          -33.501,
          -33.486,
          -33.549,
          -33.512,
          -33.478,
          -33.563,
          -33.561,
          -33.486,
          -33.498,
          -33.5,
          -33.517,
          -33.528,
          -33.491,
          -33.546,
          -33.508,
          -33.505
         ],
         "legendgroup": "",
         "lon": [
          -70.688,
          -70.736,
          -70.752,
          -70.769,
          -70.747,
          -70.762,
          -70.763,
          -70.759,
          -70.751,
          -70.771,
          -70.765,
          -70.75,
          -70.783,
          -70.776,
          -70.75,
          -70.773,
          -70.756,
          -70.761,
          -70.765,
          -70.763,
          -70.764,
          -70.75,
          -70.766,
          -70.776,
          -70.759,
          -70.758,
          -70.747,
          -70.768,
          -70.767,
          -70.764,
          -70.748,
          -70.772,
          -70.775,
          -70.757,
          -70.751,
          -70.773,
          -70.786,
          -70.728,
          -70.791,
          -70.761,
          -70.757,
          -70.745,
          -70.785,
          -70.787,
          -70.752,
          -70.761,
          -70.773,
          -70.753,
          -70.753,
          -70.768,
          -70.777,
          -70.771,
          -70.756,
          -70.795,
          -70.742,
          -70.746,
          -70.765,
          -70.767,
          -70.778,
          -70.755,
          -70.789,
          -70.749,
          -70.795,
          -70.757,
          -70.75,
          -70.782,
          -70.757,
          -70.756,
          -70.738,
          -70.768,
          -70.757,
          -70.753,
          -70.763,
          -70.781,
          -70.769,
          -70.78,
          -70.778,
          -70.792,
          -70.762,
          -70.79,
          -70.787,
          -70.754,
          -70.782,
          -70.737,
          -70.762,
          -70.763,
          -70.768,
          -70.797,
          -70.739,
          -70.774,
          -70.791,
          -70.765,
          -70.764,
          -70.781,
          -70.791,
          -70.797,
          -70.784,
          -70.793,
          -70.774,
          -70.756
         ],
         "marker": {
          "color": [
           5.33,
           5.52,
           3.59,
           4.63,
           5.18,
           4.86,
           4.91,
           5.35,
           5.34,
           5.09,
           5.98,
           4.35,
           4.54,
           5.52,
           5.55,
           5.29,
           5.18,
           5.98,
           5.56,
           5.48,
           4.92,
           5.71,
           5.72,
           4.89,
           5.89,
           5.42,
           5.87,
           5.9,
           5.47,
           5.14,
           5.84,
           4.96,
           5.38,
           6.41,
           6.11,
           5.52,
           4.51,
           5.44,
           5.4,
           4.32,
           5.57,
           6.71,
           5.09,
           5.62,
           5.75,
           5.85,
           5.55,
           5.28,
           5.52,
           4.33,
           5.05,
           5.4,
           5.62,
           5.27,
           5.52,
           5.67,
           6.36,
           3.76,
           5.28,
           5.91,
           5.31,
           5.76,
           5.57,
           5.59,
           6.06,
           5,
           5.77,
           6.12,
           5.52,
           5.36,
           5.39,
           5.48,
           5.35,
           5.26,
           5.54,
           5.52,
           5.67,
           5.57,
           6.12,
           4.82,
           5.39,
           5.75,
           5.6,
           5.22,
           5.79,
           5.13,
           5.6,
           4.78,
           5.38,
           5.64,
           6.01,
           5.02,
           4.62,
           5.24,
           5.51,
           5.73,
           5.2,
           5.1,
           2.7,
           4.88
          ],
          "coloraxis": "coloraxis"
         },
         "mode": "markers",
         "name": "",
         "showlegend": false,
         "subplot": "mapbox",
         "type": "scattermapbox"
        }
       ],
       "layout": {
        "coloraxis": {
         "colorbar": {
          "title": {
           "text": "PROM_GRAL"
          }
         },
         "colorscale": [
          [
           0,
           "#0d0887"
          ],
          [
           0.1111111111111111,
           "#46039f"
          ],
          [
           0.2222222222222222,
           "#7201a8"
          ],
          [
           0.3333333333333333,
           "#9c179e"
          ],
          [
           0.4444444444444444,
           "#bd3786"
          ],
          [
           0.5555555555555556,
           "#d8576b"
          ],
          [
           0.6666666666666666,
           "#ed7953"
          ],
          [
           0.7777777777777778,
           "#fb9f3a"
          ],
          [
           0.8888888888888888,
           "#fdca26"
          ],
          [
           1,
           "#f0f921"
          ]
         ]
        },
        "height": 600,
        "legend": {
         "tracegroupgap": 0
        },
        "mapbox": {
         "center": {
          "lat": -33.50914,
          "lon": -70.76512000000001
         },
         "domain": {
          "x": [
           0,
           1
          ],
          "y": [
           0,
           1
          ]
         },
         "style": "open-street-map",
         "zoom": 8
        },
        "margin": {
         "t": 60
        },
        "template": {
         "data": {
          "bar": [
           {
            "error_x": {
             "color": "#2a3f5f"
            },
            "error_y": {
             "color": "#2a3f5f"
            },
            "marker": {
             "line": {
              "color": "#E5ECF6",
              "width": 0.5
             },
             "pattern": {
              "fillmode": "overlay",
              "size": 10,
              "solidity": 0.2
             }
            },
            "type": "bar"
           }
          ],
          "barpolar": [
           {
            "marker": {
             "line": {
              "color": "#E5ECF6",
              "width": 0.5
             },
             "pattern": {
              "fillmode": "overlay",
              "size": 10,
              "solidity": 0.2
             }
            },
            "type": "barpolar"
           }
          ],
          "carpet": [
           {
            "aaxis": {
             "endlinecolor": "#2a3f5f",
             "gridcolor": "white",
             "linecolor": "white",
             "minorgridcolor": "white",
             "startlinecolor": "#2a3f5f"
            },
            "baxis": {
             "endlinecolor": "#2a3f5f",
             "gridcolor": "white",
             "linecolor": "white",
             "minorgridcolor": "white",
             "startlinecolor": "#2a3f5f"
            },
            "type": "carpet"
           }
          ],
          "choropleth": [
           {
            "colorbar": {
             "outlinewidth": 0,
             "ticks": ""
            },
            "type": "choropleth"
           }
          ],
          "contour": [
           {
            "colorbar": {
             "outlinewidth": 0,
             "ticks": ""
            },
            "colorscale": [
             [
              0,
              "#0d0887"
             ],
             [
              0.1111111111111111,
              "#46039f"
             ],
             [
              0.2222222222222222,
              "#7201a8"
             ],
             [
              0.3333333333333333,
              "#9c179e"
             ],
             [
              0.4444444444444444,
              "#bd3786"
             ],
             [
              0.5555555555555556,
              "#d8576b"
             ],
             [
              0.6666666666666666,
              "#ed7953"
             ],
             [
              0.7777777777777778,
              "#fb9f3a"
             ],
             [
              0.8888888888888888,
              "#fdca26"
             ],
             [
              1,
              "#f0f921"
             ]
            ],
            "type": "contour"
           }
          ],
          "contourcarpet": [
           {
            "colorbar": {
             "outlinewidth": 0,
             "ticks": ""
            },
            "type": "contourcarpet"
           }
          ],
          "heatmap": [
           {
            "colorbar": {
             "outlinewidth": 0,
             "ticks": ""
            },
            "colorscale": [
             [
              0,
              "#0d0887"
             ],
             [
              0.1111111111111111,
              "#46039f"
             ],
             [
              0.2222222222222222,
              "#7201a8"
             ],
             [
              0.3333333333333333,
              "#9c179e"
             ],
             [
              0.4444444444444444,
              "#bd3786"
             ],
             [
              0.5555555555555556,
              "#d8576b"
             ],
             [
              0.6666666666666666,
              "#ed7953"
             ],
             [
              0.7777777777777778,
              "#fb9f3a"
             ],
             [
              0.8888888888888888,
              "#fdca26"
             ],
             [
              1,
              "#f0f921"
             ]
            ],
            "type": "heatmap"
           }
          ],
          "heatmapgl": [
           {
            "colorbar": {
             "outlinewidth": 0,
             "ticks": ""
            },
            "colorscale": [
             [
              0,
              "#0d0887"
             ],
             [
              0.1111111111111111,
              "#46039f"
             ],
             [
              0.2222222222222222,
              "#7201a8"
             ],
             [
              0.3333333333333333,
              "#9c179e"
             ],
             [
              0.4444444444444444,
              "#bd3786"
             ],
             [
              0.5555555555555556,
              "#d8576b"
             ],
             [
              0.6666666666666666,
              "#ed7953"
             ],
             [
              0.7777777777777778,
              "#fb9f3a"
             ],
             [
              0.8888888888888888,
              "#fdca26"
             ],
             [
              1,
              "#f0f921"
             ]
            ],
            "type": "heatmapgl"
           }
          ],
          "histogram": [
           {
            "marker": {
             "pattern": {
              "fillmode": "overlay",
              "size": 10,
              "solidity": 0.2
             }
            },
            "type": "histogram"
           }
          ],
          "histogram2d": [
           {
            "colorbar": {
             "outlinewidth": 0,
             "ticks": ""
            },
            "colorscale": [
             [
              0,
              "#0d0887"
             ],
             [
              0.1111111111111111,
              "#46039f"
             ],
             [
              0.2222222222222222,
              "#7201a8"
             ],
             [
              0.3333333333333333,
              "#9c179e"
             ],
             [
              0.4444444444444444,
              "#bd3786"
             ],
             [
              0.5555555555555556,
              "#d8576b"
             ],
             [
              0.6666666666666666,
              "#ed7953"
             ],
             [
              0.7777777777777778,
              "#fb9f3a"
             ],
             [
              0.8888888888888888,
              "#fdca26"
             ],
             [
              1,
              "#f0f921"
             ]
            ],
            "type": "histogram2d"
           }
          ],
          "histogram2dcontour": [
           {
            "colorbar": {
             "outlinewidth": 0,
             "ticks": ""
            },
            "colorscale": [
             [
              0,
              "#0d0887"
             ],
             [
              0.1111111111111111,
              "#46039f"
             ],
             [
              0.2222222222222222,
              "#7201a8"
             ],
             [
              0.3333333333333333,
              "#9c179e"
             ],
             [
              0.4444444444444444,
              "#bd3786"
             ],
             [
              0.5555555555555556,
              "#d8576b"
             ],
             [
              0.6666666666666666,
              "#ed7953"
             ],
             [
              0.7777777777777778,
              "#fb9f3a"
             ],
             [
              0.8888888888888888,
              "#fdca26"
             ],
             [
              1,
              "#f0f921"
             ]
            ],
            "type": "histogram2dcontour"
           }
          ],
          "mesh3d": [
           {
            "colorbar": {
             "outlinewidth": 0,
             "ticks": ""
            },
            "type": "mesh3d"
           }
          ],
          "parcoords": [
           {
            "line": {
             "colorbar": {
              "outlinewidth": 0,
              "ticks": ""
             }
            },
            "type": "parcoords"
           }
          ],
          "pie": [
           {
            "automargin": true,
            "type": "pie"
           }
          ],
          "scatter": [
           {
            "fillpattern": {
             "fillmode": "overlay",
             "size": 10,
             "solidity": 0.2
            },
            "type": "scatter"
           }
          ],
          "scatter3d": [
           {
            "line": {
             "colorbar": {
              "outlinewidth": 0,
              "ticks": ""
             }
            },
            "marker": {
             "colorbar": {
              "outlinewidth": 0,
              "ticks": ""
             }
            },
            "type": "scatter3d"
           }
          ],
          "scattercarpet": [
           {
            "marker": {
             "colorbar": {
              "outlinewidth": 0,
              "ticks": ""
             }
            },
            "type": "scattercarpet"
           }
          ],
          "scattergeo": [
           {
            "marker": {
             "colorbar": {
              "outlinewidth": 0,
              "ticks": ""
             }
            },
            "type": "scattergeo"
           }
          ],
          "scattergl": [
           {
            "marker": {
             "colorbar": {
              "outlinewidth": 0,
              "ticks": ""
             }
            },
            "type": "scattergl"
           }
          ],
          "scattermapbox": [
           {
            "marker": {
             "colorbar": {
              "outlinewidth": 0,
              "ticks": ""
             }
            },
            "type": "scattermapbox"
           }
          ],
          "scatterpolar": [
           {
            "marker": {
             "colorbar": {
              "outlinewidth": 0,
              "ticks": ""
             }
            },
            "type": "scatterpolar"
           }
          ],
          "scatterpolargl": [
           {
            "marker": {
             "colorbar": {
              "outlinewidth": 0,
              "ticks": ""
             }
            },
            "type": "scatterpolargl"
           }
          ],
          "scatterternary": [
           {
            "marker": {
             "colorbar": {
              "outlinewidth": 0,
              "ticks": ""
             }
            },
            "type": "scatterternary"
           }
          ],
          "surface": [
           {
            "colorbar": {
             "outlinewidth": 0,
             "ticks": ""
            },
            "colorscale": [
             [
              0,
              "#0d0887"
             ],
             [
              0.1111111111111111,
              "#46039f"
             ],
             [
              0.2222222222222222,
              "#7201a8"
             ],
             [
              0.3333333333333333,
              "#9c179e"
             ],
             [
              0.4444444444444444,
              "#bd3786"
             ],
             [
              0.5555555555555556,
              "#d8576b"
             ],
             [
              0.6666666666666666,
              "#ed7953"
             ],
             [
              0.7777777777777778,
              "#fb9f3a"
             ],
             [
              0.8888888888888888,
              "#fdca26"
             ],
             [
              1,
              "#f0f921"
             ]
            ],
            "type": "surface"
           }
          ],
          "table": [
           {
            "cells": {
             "fill": {
              "color": "#EBF0F8"
             },
             "line": {
              "color": "white"
             }
            },
            "header": {
             "fill": {
              "color": "#C8D4E3"
             },
             "line": {
              "color": "white"
             }
            },
            "type": "table"
           }
          ]
         },
         "layout": {
          "annotationdefaults": {
           "arrowcolor": "#2a3f5f",
           "arrowhead": 0,
           "arrowwidth": 1
          },
          "autotypenumbers": "strict",
          "coloraxis": {
           "colorbar": {
            "outlinewidth": 0,
            "ticks": ""
           }
          },
          "colorscale": {
           "diverging": [
            [
             0,
             "#8e0152"
            ],
            [
             0.1,
             "#c51b7d"
            ],
            [
             0.2,
             "#de77ae"
            ],
            [
             0.3,
             "#f1b6da"
            ],
            [
             0.4,
             "#fde0ef"
            ],
            [
             0.5,
             "#f7f7f7"
            ],
            [
             0.6,
             "#e6f5d0"
            ],
            [
             0.7,
             "#b8e186"
            ],
            [
             0.8,
             "#7fbc41"
            ],
            [
             0.9,
             "#4d9221"
            ],
            [
             1,
             "#276419"
            ]
           ],
           "sequential": [
            [
             0,
             "#0d0887"
            ],
            [
             0.1111111111111111,
             "#46039f"
            ],
            [
             0.2222222222222222,
             "#7201a8"
            ],
            [
             0.3333333333333333,
             "#9c179e"
            ],
            [
             0.4444444444444444,
             "#bd3786"
            ],
            [
             0.5555555555555556,
             "#d8576b"
            ],
            [
             0.6666666666666666,
             "#ed7953"
            ],
            [
             0.7777777777777778,
             "#fb9f3a"
            ],
            [
             0.8888888888888888,
             "#fdca26"
            ],
            [
             1,
             "#f0f921"
            ]
           ],
           "sequentialminus": [
            [
             0,
             "#0d0887"
            ],
            [
             0.1111111111111111,
             "#46039f"
            ],
            [
             0.2222222222222222,
             "#7201a8"
            ],
            [
             0.3333333333333333,
             "#9c179e"
            ],
            [
             0.4444444444444444,
             "#bd3786"
            ],
            [
             0.5555555555555556,
             "#d8576b"
            ],
            [
             0.6666666666666666,
             "#ed7953"
            ],
            [
             0.7777777777777778,
             "#fb9f3a"
            ],
            [
             0.8888888888888888,
             "#fdca26"
            ],
            [
             1,
             "#f0f921"
            ]
           ]
          },
          "colorway": [
           "#636efa",
           "#EF553B",
           "#00cc96",
           "#ab63fa",
           "#FFA15A",
           "#19d3f3",
           "#FF6692",
           "#B6E880",
           "#FF97FF",
           "#FECB52"
          ],
          "font": {
           "color": "#2a3f5f"
          },
          "geo": {
           "bgcolor": "white",
           "lakecolor": "white",
           "landcolor": "#E5ECF6",
           "showlakes": true,
           "showland": true,
           "subunitcolor": "white"
          },
          "hoverlabel": {
           "align": "left"
          },
          "hovermode": "closest",
          "mapbox": {
           "style": "light"
          },
          "paper_bgcolor": "white",
          "plot_bgcolor": "#E5ECF6",
          "polar": {
           "angularaxis": {
            "gridcolor": "white",
            "linecolor": "white",
            "ticks": ""
           },
           "bgcolor": "#E5ECF6",
           "radialaxis": {
            "gridcolor": "white",
            "linecolor": "white",
            "ticks": ""
           }
          },
          "scene": {
           "xaxis": {
            "backgroundcolor": "#E5ECF6",
            "gridcolor": "white",
            "gridwidth": 2,
            "linecolor": "white",
            "showbackground": true,
            "ticks": "",
            "zerolinecolor": "white"
           },
           "yaxis": {
            "backgroundcolor": "#E5ECF6",
            "gridcolor": "white",
            "gridwidth": 2,
            "linecolor": "white",
            "showbackground": true,
            "ticks": "",
            "zerolinecolor": "white"
           },
           "zaxis": {
            "backgroundcolor": "#E5ECF6",
            "gridcolor": "white",
            "gridwidth": 2,
            "linecolor": "white",
            "showbackground": true,
            "ticks": "",
            "zerolinecolor": "white"
           }
          },
          "shapedefaults": {
           "line": {
            "color": "#2a3f5f"
           }
          },
          "ternary": {
           "aaxis": {
            "gridcolor": "white",
            "linecolor": "white",
            "ticks": ""
           },
           "baxis": {
            "gridcolor": "white",
            "linecolor": "white",
            "ticks": ""
           },
           "bgcolor": "#E5ECF6",
           "caxis": {
            "gridcolor": "white",
            "linecolor": "white",
            "ticks": ""
           }
          },
          "title": {
           "x": 0.05
          },
          "xaxis": {
           "automargin": true,
           "gridcolor": "white",
           "linecolor": "white",
           "ticks": "",
           "title": {
            "standoff": 15
           },
           "zerolinecolor": "white",
           "zerolinewidth": 2
          },
          "yaxis": {
           "automargin": true,
           "gridcolor": "white",
           "linecolor": "white",
           "ticks": "",
           "title": {
            "standoff": 15
           },
           "zerolinecolor": "white",
           "zerolinewidth": 2
          }
         }
        },
        "title": {
         "text": "Colegios 8vo Básica Maipú. Chile"
        },
        "width": 600
       }
      }
     },
     "metadata": {},
     "output_type": "display_data"
    }
   ],
   "source": [
    "\n",
    "# Redondear el valor de \"PROM_GRAL\" a dos decimales\n",
    "dflatlon[\"PROM_GRAL\"] = dflatlon[\"PROM_GRAL\"].round(2)\n",
    "\n",
    "fig = px.scatter_mapbox(\n",
    "    dflatlon,  # Our DataFrame\n",
    "    lat=dflatlon[\"LATITUD\"],\n",
    "    lon=dflatlon[\"LONGITUD\"],\n",
    "    width=600,  # Width of map\n",
    "    height=600,  # Height of map\n",
    "    color=\"PROM_GRAL\",\n",
    "    hover_data=[\"PROM_GRAL\", \"NOM_RBD\"],  # Display price when hovering mouse over house\n",
    ")\n",
    "\n",
    "fig.update_layout(\n",
    "    mapbox_style=\"open-street-map\",\n",
    "    title=\"Colegios 8vo Básica Maipú. Chile\",  # Agregar el título al gráfico\n",
    ")\n",
    "\n",
    "fig.show()\n",
    "\n"
   ]
  },
  {
   "cell_type": "code",
   "execution_count": 22,
   "metadata": {},
   "outputs": [
    {
     "data": {
      "application/vnd.plotly.v1+json": {
       "config": {
        "plotlyServerURL": "https://plot.ly"
       },
       "data": [
        {
         "hovertemplate": "<b>%{hovertext}</b><br><br>LATITUD=%{x}<br>LONGITUD=%{y}<br>notas=%{z}<extra></extra>",
         "hovertext": [
          "LICEO EXPERIMENTAL ARTISTICO B-65",
          "COLEGIO ANGLO MAIPU",
          "LICEO SANTIAGO BUERAS Y AVARIA",
          "LICEO JOSE IGNACIO ZENTENO",
          "CENTRO DE EDUC. TECN.PROFESIONAL CODEDUC",
          "ESCUELA GENERAL SAN MARTIN",
          "ESCUELA GENERAL OHIGGINS",
          "ESCUELA PRESIDENTE RIESCO ERRAZURIZ",
          "ESCUELA VICENTE REYES PALAZUELOS",
          "ESCUELA BÁSICA N 263 RAMON FREIRE",
          "ESCUELA LEON HUMBERTO VALENZUELA",
          "ESCUELA EL LLANO DE MAIPU",
          "LICEO REINO DE DINAMARCA",
          "ESCUELA TOMAS VARGAS",
          "REPUBLICA DE GUATEMALA",
          "ESCUELA LAS AMERICAS",
          "ESCUELA BASICA REINA DE SUECIA",
          "LICEO SAN PEDRO POVEDA",
          "ESCUELA PARTICULAR INSTITUTO AMERICA",
          "COLEGIO POLIVALENTE CAMILO HENRIQUEZ",
          "CENTRO EDUCACIONAL PIAMARTINO CAROLINA LLONA DE CUEVAS",
          "COLEGIO PARTICULAR SAN FELIX",
          "COLEGIO DE LA PROVIDENCIA C.LARRAIN DE I",
          "COLEGIO POLIVALENTE PATRICIO MEKIS",
          "COLEGIO ALBERTO PEREZ",
          "COLEGIO SOFIA INFANTE HURTADO",
          "LICEO MATER PURISSIMA",
          "COLEGIO PARTICULAR DE ASIS",
          "COLEGIO ELLEN COLLEGE",
          "COLEGIO EL REDENTOR",
          "CENTRO EDUCACIONAL SAN ANDRES",
          "COLEGIO ROSITA SANCHEZ",
          "COMPLEJO EDUCACIONAL MAIPU",
          "ESCUELA PARTICULAR RUBEN DARIO",
          "COLEGIO SANTA URSULA",
          "ESCUELA BASICA  1287 SAN MARCOS APOSTOL",
          "COLEGIO JACQUES COUSTEAU",
          "COLEGIO LO ERRAZURIZ",
          "COLEGIO ALCAZAR",
          "ESCUELA BASICA PARTICULAR KIND`S SCHOOL",
          "COMPLEJO EDUCACIONAL ALBERTO WIDMER",
          "COLEGIO INTERNACIONAL  ALBA",
          "ESCUELA BÁSICA MUNICIPAL SAN LUIS",
          "COLEGIO SAN FRANCISCO MISIONERO",
          "COLEGIO EL REDENTOR",
          "COLEGIO CENTENARIO",
          "ESCUELA BASICA LOS BOSQUINOS",
          "ESC. BASICA BOSTON COLLEGE MAIPU",
          "ESCUELA PART. PEHUEN",
          "ESCUELA BASICA SAINT FRANCIS COLLEGE",
          "ESC. PARTICULAR ALFARERO",
          "COLEGIO VICTORIANO",
          "COLEGIO SAN NICOLAS DE MAIPU",
          "COLEGIO MUNIC.  SAN SEBASTIAN DE RINCONADA",
          "COL.PARTICULAR SAN VALENTIN DE MAIPU",
          "COLEGIO SANTA MARIA DE MAIPU",
          "ESC. PART. CHRIST SCHOOL",
          "ESC.BAS.NUEVOS CASTANOS DE MAIPU",
          "ESCUELA BÁSICA 1737 LOS ALERCES DE MAIPÚ",
          "INSTITUTO CRISTIANO LUIS GANDARILLAS",
          "ESCUELA BASICA PART. CRISTIANO DE LOS HEROES",
          "ESC. PART. CRISTIANO ORIENTE",
          "COLEGIO PART. CARDENAL CARLOS OVIEDO CAVADA",
          "COLEGIO PARTICULAR ALICANTE",
          "ESCUELA HERMANOS CARRERA",
          "COLEGIO PART. KING EDWARDS SCHOOL I",
          "COLEGIO INSTITUTO O¦HIGGINS DE MAIPU",
          "ESC. PART. ARTISTICA EL TRIGAL",
          "COLEGIO SAN ANDRES DE MAIPU",
          "ESC. BASICA PART. BOSTON COLLEGE LA FARFANA",
          "ESCUELA INSTITUTO RAMON FREIRE",
          "ESCUELA BASICA  N°1921 SISTER VERENANCE",
          "COLEGIO OXFORD",
          "COLEGIO LOS ALPES MAIPU",
          "COLEGIO NTRA. SRA. DEL CARMEN DE MAIPU",
          "COLEGIO PART. ALICANTE DEL ROSAL",
          "LINCOLN COLLEGE SAN MARTIN",
          "LICEO NACIONAL DE MAIPU",
          "COLEGIO PART. ROYAL AMERICAN SCHOOL",
          "COLEGIO POLIV. DIEGO PORTALES DE MAIPU",
          "ESC. BAS. PART. LAS NACIONES",
          "ESCUELA DE LAS ARTES Y LA TECNOLOGIA",
          "COLEGIO DEL VALLE",
          "ESC. PART. EL ARRAYAN DE MAIPU",
          "COLEGIO INTERCULTURAL TREMEMN",
          "COLEGIO CENTRO EDUCACIONAL ROUSSEAU",
          "COLEGIO DEL REAL",
          "COLEGIO SAN JUAN DIEGO DE GUADALUPE",
          "ESCUELA BAS. ECHAURREN N° 2",
          "COLEGIO SAINT LOUIS SCHOOL",
          "COLEGIO SAN FRANCISCO DE SALES",
          "ESC. ALTAS CUMBRES DEL ROSAL",
          "COLEGIO ALVARO LAVÍN",
          "COLEGIO TERRAUSTRAL DEL SOL",
          "COLEGIO TERRAUSTRAL OESTE S.A",
          "LICEO TECNOLOGICO BICENTENARIO ENRIQUE KIRBERG BALTIANSKY",
          "LICEO BICENTENARIO DE NIÑAS DE MAIPU",
          "COLEGIO SAN ANDRES MAIPU EL BOSQUE",
          "ESCUELA HOSPITALARIA EL CARMEN DE MAIPU",
          "ESCUELA INTERNACIONAL DE LIDERES CORONEL SANTIAGO BUERAS Y AVARIA"
         ],
         "legendgroup": "",
         "marker": {
          "color": "#636efa",
          "line": {
           "color": "DarkSlateGrey",
           "width": 2
          },
          "size": 4,
          "symbol": "circle"
         },
         "mode": "markers",
         "name": "",
         "scene": "scene",
         "showlegend": false,
         "type": "scatter3d",
         "x": [
          -33.432,
          -33.494,
          -33.505,
          -33.503,
          -33.51,
          -33.51,
          -33.51,
          -33.526,
          -33.517,
          -33.499,
          -33.497,
          -33.517,
          -33.507,
          -33.5,
          -33.498,
          -33.548,
          -33.474,
          -33.496,
          -33.508,
          -33.515,
          -33.515,
          -33.5,
          -33.516,
          -33.511,
          -33.5,
          -33.526,
          -33.505,
          -33.511,
          -33.504,
          -33.503,
          -33.485,
          -33.527,
          -33.517,
          -33.519,
          -33.511,
          -33.545,
          -33.516,
          -33.474,
          -33.557,
          -33.496,
          -33.502,
          -33.481,
          -33.512,
          -33.565,
          -33.502,
          -33.5,
          -33.529,
          -33.467,
          -33.504,
          -33.506,
          -33.531,
          -33.512,
          -33.505,
          -33.509,
          -33.508,
          -33.484,
          -33.509,
          -33.509,
          -33.539,
          -33.504,
          -33.51,
          -33.475,
          -33.514,
          -33.475,
          -33.504,
          -33.525,
          -33.506,
          -33.5,
          -33.488,
          -33.49,
          -33.524,
          -33.507,
          -33.506,
          -33.565,
          -33.513,
          -33.491,
          -33.524,
          -33.519,
          -33.503,
          -33.51,
          -33.522,
          -33.5,
          -33.552,
          -33.48,
          -33.501,
          -33.486,
          -33.549,
          -33.512,
          -33.478,
          -33.563,
          -33.561,
          -33.486,
          -33.498,
          -33.5,
          -33.517,
          -33.528,
          -33.491,
          -33.546,
          -33.508,
          -33.505
         ],
         "y": [
          -70.688,
          -70.736,
          -70.752,
          -70.769,
          -70.747,
          -70.762,
          -70.763,
          -70.759,
          -70.751,
          -70.771,
          -70.765,
          -70.75,
          -70.783,
          -70.776,
          -70.75,
          -70.773,
          -70.756,
          -70.761,
          -70.765,
          -70.763,
          -70.764,
          -70.75,
          -70.766,
          -70.776,
          -70.759,
          -70.758,
          -70.747,
          -70.768,
          -70.767,
          -70.764,
          -70.748,
          -70.772,
          -70.775,
          -70.757,
          -70.751,
          -70.773,
          -70.786,
          -70.728,
          -70.791,
          -70.761,
          -70.757,
          -70.745,
          -70.785,
          -70.787,
          -70.752,
          -70.761,
          -70.773,
          -70.753,
          -70.753,
          -70.768,
          -70.777,
          -70.771,
          -70.756,
          -70.795,
          -70.742,
          -70.746,
          -70.765,
          -70.767,
          -70.778,
          -70.755,
          -70.789,
          -70.749,
          -70.795,
          -70.757,
          -70.75,
          -70.782,
          -70.757,
          -70.756,
          -70.738,
          -70.768,
          -70.757,
          -70.753,
          -70.763,
          -70.781,
          -70.769,
          -70.78,
          -70.778,
          -70.792,
          -70.762,
          -70.79,
          -70.787,
          -70.754,
          -70.782,
          -70.737,
          -70.762,
          -70.763,
          -70.768,
          -70.797,
          -70.739,
          -70.774,
          -70.791,
          -70.765,
          -70.764,
          -70.781,
          -70.791,
          -70.797,
          -70.784,
          -70.793,
          -70.774,
          -70.756
         ],
         "z": [
          5.33,
          5.52,
          3.59,
          4.63,
          5.18,
          4.86,
          4.91,
          5.35,
          5.34,
          5.09,
          5.98,
          4.35,
          4.54,
          5.52,
          5.55,
          5.29,
          5.18,
          5.98,
          5.56,
          5.48,
          4.92,
          5.71,
          5.72,
          4.89,
          5.89,
          5.42,
          5.87,
          5.9,
          5.47,
          5.14,
          5.84,
          4.96,
          5.38,
          6.41,
          6.11,
          5.52,
          4.51,
          5.44,
          5.4,
          4.32,
          5.57,
          6.71,
          5.09,
          5.62,
          5.75,
          5.85,
          5.55,
          5.28,
          5.52,
          4.33,
          5.05,
          5.4,
          5.62,
          5.27,
          5.52,
          5.67,
          6.36,
          3.76,
          5.28,
          5.91,
          5.31,
          5.76,
          5.57,
          5.59,
          6.06,
          5,
          5.77,
          6.12,
          5.52,
          5.36,
          5.39,
          5.48,
          5.35,
          5.26,
          5.54,
          5.52,
          5.67,
          5.57,
          6.12,
          4.82,
          5.39,
          5.75,
          5.6,
          5.22,
          5.79,
          5.13,
          5.6,
          4.78,
          5.38,
          5.64,
          6.01,
          5.02,
          4.62,
          5.24,
          5.51,
          5.73,
          5.2,
          5.1,
          2.7,
          4.88
         ]
        }
       ],
       "layout": {
        "height": 500,
        "legend": {
         "tracegroupgap": 0
        },
        "scene": {
         "domain": {
          "x": [
           0,
           1
          ],
          "y": [
           0,
           1
          ]
         },
         "xaxis": {
          "title": {
           "text": "LATITUD"
          }
         },
         "yaxis": {
          "title": {
           "text": "LONGITUD"
          }
         },
         "zaxis": {
          "title": {
           "text": "notas"
          }
         }
        },
        "template": {
         "data": {
          "bar": [
           {
            "error_x": {
             "color": "#2a3f5f"
            },
            "error_y": {
             "color": "#2a3f5f"
            },
            "marker": {
             "line": {
              "color": "#E5ECF6",
              "width": 0.5
             },
             "pattern": {
              "fillmode": "overlay",
              "size": 10,
              "solidity": 0.2
             }
            },
            "type": "bar"
           }
          ],
          "barpolar": [
           {
            "marker": {
             "line": {
              "color": "#E5ECF6",
              "width": 0.5
             },
             "pattern": {
              "fillmode": "overlay",
              "size": 10,
              "solidity": 0.2
             }
            },
            "type": "barpolar"
           }
          ],
          "carpet": [
           {
            "aaxis": {
             "endlinecolor": "#2a3f5f",
             "gridcolor": "white",
             "linecolor": "white",
             "minorgridcolor": "white",
             "startlinecolor": "#2a3f5f"
            },
            "baxis": {
             "endlinecolor": "#2a3f5f",
             "gridcolor": "white",
             "linecolor": "white",
             "minorgridcolor": "white",
             "startlinecolor": "#2a3f5f"
            },
            "type": "carpet"
           }
          ],
          "choropleth": [
           {
            "colorbar": {
             "outlinewidth": 0,
             "ticks": ""
            },
            "type": "choropleth"
           }
          ],
          "contour": [
           {
            "colorbar": {
             "outlinewidth": 0,
             "ticks": ""
            },
            "colorscale": [
             [
              0,
              "#0d0887"
             ],
             [
              0.1111111111111111,
              "#46039f"
             ],
             [
              0.2222222222222222,
              "#7201a8"
             ],
             [
              0.3333333333333333,
              "#9c179e"
             ],
             [
              0.4444444444444444,
              "#bd3786"
             ],
             [
              0.5555555555555556,
              "#d8576b"
             ],
             [
              0.6666666666666666,
              "#ed7953"
             ],
             [
              0.7777777777777778,
              "#fb9f3a"
             ],
             [
              0.8888888888888888,
              "#fdca26"
             ],
             [
              1,
              "#f0f921"
             ]
            ],
            "type": "contour"
           }
          ],
          "contourcarpet": [
           {
            "colorbar": {
             "outlinewidth": 0,
             "ticks": ""
            },
            "type": "contourcarpet"
           }
          ],
          "heatmap": [
           {
            "colorbar": {
             "outlinewidth": 0,
             "ticks": ""
            },
            "colorscale": [
             [
              0,
              "#0d0887"
             ],
             [
              0.1111111111111111,
              "#46039f"
             ],
             [
              0.2222222222222222,
              "#7201a8"
             ],
             [
              0.3333333333333333,
              "#9c179e"
             ],
             [
              0.4444444444444444,
              "#bd3786"
             ],
             [
              0.5555555555555556,
              "#d8576b"
             ],
             [
              0.6666666666666666,
              "#ed7953"
             ],
             [
              0.7777777777777778,
              "#fb9f3a"
             ],
             [
              0.8888888888888888,
              "#fdca26"
             ],
             [
              1,
              "#f0f921"
             ]
            ],
            "type": "heatmap"
           }
          ],
          "heatmapgl": [
           {
            "colorbar": {
             "outlinewidth": 0,
             "ticks": ""
            },
            "colorscale": [
             [
              0,
              "#0d0887"
             ],
             [
              0.1111111111111111,
              "#46039f"
             ],
             [
              0.2222222222222222,
              "#7201a8"
             ],
             [
              0.3333333333333333,
              "#9c179e"
             ],
             [
              0.4444444444444444,
              "#bd3786"
             ],
             [
              0.5555555555555556,
              "#d8576b"
             ],
             [
              0.6666666666666666,
              "#ed7953"
             ],
             [
              0.7777777777777778,
              "#fb9f3a"
             ],
             [
              0.8888888888888888,
              "#fdca26"
             ],
             [
              1,
              "#f0f921"
             ]
            ],
            "type": "heatmapgl"
           }
          ],
          "histogram": [
           {
            "marker": {
             "pattern": {
              "fillmode": "overlay",
              "size": 10,
              "solidity": 0.2
             }
            },
            "type": "histogram"
           }
          ],
          "histogram2d": [
           {
            "colorbar": {
             "outlinewidth": 0,
             "ticks": ""
            },
            "colorscale": [
             [
              0,
              "#0d0887"
             ],
             [
              0.1111111111111111,
              "#46039f"
             ],
             [
              0.2222222222222222,
              "#7201a8"
             ],
             [
              0.3333333333333333,
              "#9c179e"
             ],
             [
              0.4444444444444444,
              "#bd3786"
             ],
             [
              0.5555555555555556,
              "#d8576b"
             ],
             [
              0.6666666666666666,
              "#ed7953"
             ],
             [
              0.7777777777777778,
              "#fb9f3a"
             ],
             [
              0.8888888888888888,
              "#fdca26"
             ],
             [
              1,
              "#f0f921"
             ]
            ],
            "type": "histogram2d"
           }
          ],
          "histogram2dcontour": [
           {
            "colorbar": {
             "outlinewidth": 0,
             "ticks": ""
            },
            "colorscale": [
             [
              0,
              "#0d0887"
             ],
             [
              0.1111111111111111,
              "#46039f"
             ],
             [
              0.2222222222222222,
              "#7201a8"
             ],
             [
              0.3333333333333333,
              "#9c179e"
             ],
             [
              0.4444444444444444,
              "#bd3786"
             ],
             [
              0.5555555555555556,
              "#d8576b"
             ],
             [
              0.6666666666666666,
              "#ed7953"
             ],
             [
              0.7777777777777778,
              "#fb9f3a"
             ],
             [
              0.8888888888888888,
              "#fdca26"
             ],
             [
              1,
              "#f0f921"
             ]
            ],
            "type": "histogram2dcontour"
           }
          ],
          "mesh3d": [
           {
            "colorbar": {
             "outlinewidth": 0,
             "ticks": ""
            },
            "type": "mesh3d"
           }
          ],
          "parcoords": [
           {
            "line": {
             "colorbar": {
              "outlinewidth": 0,
              "ticks": ""
             }
            },
            "type": "parcoords"
           }
          ],
          "pie": [
           {
            "automargin": true,
            "type": "pie"
           }
          ],
          "scatter": [
           {
            "fillpattern": {
             "fillmode": "overlay",
             "size": 10,
             "solidity": 0.2
            },
            "type": "scatter"
           }
          ],
          "scatter3d": [
           {
            "line": {
             "colorbar": {
              "outlinewidth": 0,
              "ticks": ""
             }
            },
            "marker": {
             "colorbar": {
              "outlinewidth": 0,
              "ticks": ""
             }
            },
            "type": "scatter3d"
           }
          ],
          "scattercarpet": [
           {
            "marker": {
             "colorbar": {
              "outlinewidth": 0,
              "ticks": ""
             }
            },
            "type": "scattercarpet"
           }
          ],
          "scattergeo": [
           {
            "marker": {
             "colorbar": {
              "outlinewidth": 0,
              "ticks": ""
             }
            },
            "type": "scattergeo"
           }
          ],
          "scattergl": [
           {
            "marker": {
             "colorbar": {
              "outlinewidth": 0,
              "ticks": ""
             }
            },
            "type": "scattergl"
           }
          ],
          "scattermapbox": [
           {
            "marker": {
             "colorbar": {
              "outlinewidth": 0,
              "ticks": ""
             }
            },
            "type": "scattermapbox"
           }
          ],
          "scatterpolar": [
           {
            "marker": {
             "colorbar": {
              "outlinewidth": 0,
              "ticks": ""
             }
            },
            "type": "scatterpolar"
           }
          ],
          "scatterpolargl": [
           {
            "marker": {
             "colorbar": {
              "outlinewidth": 0,
              "ticks": ""
             }
            },
            "type": "scatterpolargl"
           }
          ],
          "scatterternary": [
           {
            "marker": {
             "colorbar": {
              "outlinewidth": 0,
              "ticks": ""
             }
            },
            "type": "scatterternary"
           }
          ],
          "surface": [
           {
            "colorbar": {
             "outlinewidth": 0,
             "ticks": ""
            },
            "colorscale": [
             [
              0,
              "#0d0887"
             ],
             [
              0.1111111111111111,
              "#46039f"
             ],
             [
              0.2222222222222222,
              "#7201a8"
             ],
             [
              0.3333333333333333,
              "#9c179e"
             ],
             [
              0.4444444444444444,
              "#bd3786"
             ],
             [
              0.5555555555555556,
              "#d8576b"
             ],
             [
              0.6666666666666666,
              "#ed7953"
             ],
             [
              0.7777777777777778,
              "#fb9f3a"
             ],
             [
              0.8888888888888888,
              "#fdca26"
             ],
             [
              1,
              "#f0f921"
             ]
            ],
            "type": "surface"
           }
          ],
          "table": [
           {
            "cells": {
             "fill": {
              "color": "#EBF0F8"
             },
             "line": {
              "color": "white"
             }
            },
            "header": {
             "fill": {
              "color": "#C8D4E3"
             },
             "line": {
              "color": "white"
             }
            },
            "type": "table"
           }
          ]
         },
         "layout": {
          "annotationdefaults": {
           "arrowcolor": "#2a3f5f",
           "arrowhead": 0,
           "arrowwidth": 1
          },
          "autotypenumbers": "strict",
          "coloraxis": {
           "colorbar": {
            "outlinewidth": 0,
            "ticks": ""
           }
          },
          "colorscale": {
           "diverging": [
            [
             0,
             "#8e0152"
            ],
            [
             0.1,
             "#c51b7d"
            ],
            [
             0.2,
             "#de77ae"
            ],
            [
             0.3,
             "#f1b6da"
            ],
            [
             0.4,
             "#fde0ef"
            ],
            [
             0.5,
             "#f7f7f7"
            ],
            [
             0.6,
             "#e6f5d0"
            ],
            [
             0.7,
             "#b8e186"
            ],
            [
             0.8,
             "#7fbc41"
            ],
            [
             0.9,
             "#4d9221"
            ],
            [
             1,
             "#276419"
            ]
           ],
           "sequential": [
            [
             0,
             "#0d0887"
            ],
            [
             0.1111111111111111,
             "#46039f"
            ],
            [
             0.2222222222222222,
             "#7201a8"
            ],
            [
             0.3333333333333333,
             "#9c179e"
            ],
            [
             0.4444444444444444,
             "#bd3786"
            ],
            [
             0.5555555555555556,
             "#d8576b"
            ],
            [
             0.6666666666666666,
             "#ed7953"
            ],
            [
             0.7777777777777778,
             "#fb9f3a"
            ],
            [
             0.8888888888888888,
             "#fdca26"
            ],
            [
             1,
             "#f0f921"
            ]
           ],
           "sequentialminus": [
            [
             0,
             "#0d0887"
            ],
            [
             0.1111111111111111,
             "#46039f"
            ],
            [
             0.2222222222222222,
             "#7201a8"
            ],
            [
             0.3333333333333333,
             "#9c179e"
            ],
            [
             0.4444444444444444,
             "#bd3786"
            ],
            [
             0.5555555555555556,
             "#d8576b"
            ],
            [
             0.6666666666666666,
             "#ed7953"
            ],
            [
             0.7777777777777778,
             "#fb9f3a"
            ],
            [
             0.8888888888888888,
             "#fdca26"
            ],
            [
             1,
             "#f0f921"
            ]
           ]
          },
          "colorway": [
           "#636efa",
           "#EF553B",
           "#00cc96",
           "#ab63fa",
           "#FFA15A",
           "#19d3f3",
           "#FF6692",
           "#B6E880",
           "#FF97FF",
           "#FECB52"
          ],
          "font": {
           "color": "#2a3f5f"
          },
          "geo": {
           "bgcolor": "white",
           "lakecolor": "white",
           "landcolor": "#E5ECF6",
           "showlakes": true,
           "showland": true,
           "subunitcolor": "white"
          },
          "hoverlabel": {
           "align": "left"
          },
          "hovermode": "closest",
          "mapbox": {
           "style": "light"
          },
          "paper_bgcolor": "white",
          "plot_bgcolor": "#E5ECF6",
          "polar": {
           "angularaxis": {
            "gridcolor": "white",
            "linecolor": "white",
            "ticks": ""
           },
           "bgcolor": "#E5ECF6",
           "radialaxis": {
            "gridcolor": "white",
            "linecolor": "white",
            "ticks": ""
           }
          },
          "scene": {
           "xaxis": {
            "backgroundcolor": "#E5ECF6",
            "gridcolor": "white",
            "gridwidth": 2,
            "linecolor": "white",
            "showbackground": true,
            "ticks": "",
            "zerolinecolor": "white"
           },
           "yaxis": {
            "backgroundcolor": "#E5ECF6",
            "gridcolor": "white",
            "gridwidth": 2,
            "linecolor": "white",
            "showbackground": true,
            "ticks": "",
            "zerolinecolor": "white"
           },
           "zaxis": {
            "backgroundcolor": "#E5ECF6",
            "gridcolor": "white",
            "gridwidth": 2,
            "linecolor": "white",
            "showbackground": true,
            "ticks": "",
            "zerolinecolor": "white"
           }
          },
          "shapedefaults": {
           "line": {
            "color": "#2a3f5f"
           }
          },
          "ternary": {
           "aaxis": {
            "gridcolor": "white",
            "linecolor": "white",
            "ticks": ""
           },
           "baxis": {
            "gridcolor": "white",
            "linecolor": "white",
            "ticks": ""
           },
           "bgcolor": "#E5ECF6",
           "caxis": {
            "gridcolor": "white",
            "linecolor": "white",
            "ticks": ""
           }
          },
          "title": {
           "x": 0.05
          },
          "xaxis": {
           "automargin": true,
           "gridcolor": "white",
           "linecolor": "white",
           "ticks": "",
           "title": {
            "standoff": 15
           },
           "zerolinecolor": "white",
           "zerolinewidth": 2
          },
          "yaxis": {
           "automargin": true,
           "gridcolor": "white",
           "linecolor": "white",
           "ticks": "",
           "title": {
            "standoff": 15
           },
           "zerolinecolor": "white",
           "zerolinewidth": 2
          }
         }
        },
        "title": {
         "text": "Calificaciónes 8vo Básico 2022. Maipu"
        },
        "width": 600
       }
      }
     },
     "metadata": {},
     "output_type": "display_data"
    }
   ],
   "source": [
    "# Create 3D scatter plot\n",
    "fig = px.scatter_3d(\n",
    "    dflatlon,\n",
    "    x=\"LATITUD\",\n",
    "    y=\"LONGITUD\",\n",
    "    z=\"PROM_GRAL\",\n",
    "    labels={\"lon\": \"longitude\", \"lat\": \"latitude\", \"PROM_GRAL\": \"notas\"},\n",
    "    title=\"Calificaciónes 8vo Básico 2022. Maipu\",\n",
    "     hover_name=\"NOM_RBD\",  # Mostrar \"NOM_RBD\" al deslizar el cursor sobre el punto\n",
    "    width=600,\n",
    "    height=500,\n",
    ")\n",
    "\n",
    "# Refine formatting\n",
    "fig.update_traces(\n",
    "    marker={\"size\": 4, \"line\": {\"width\": 2, \"color\": \"DarkSlateGrey\"}},\n",
    "    selector={\"mode\": \"markers\"},\n",
    ")\n",
    "\n",
    "# Display figure\n",
    "fig.show()"
   ]
  },
  {
   "cell_type": "code",
   "execution_count": 24,
   "metadata": {},
   "outputs": [
    {
     "name": "stdout",
     "output_type": "stream",
     "text": [
      "<class 'pandas.core.frame.DataFrame'>\n",
      "RangeIndex: 100 entries, 0 to 99\n",
      "Data columns (total 2 columns):\n",
      " #   Column    Non-Null Count  Dtype  \n",
      "---  ------    --------------  -----  \n",
      " 0   LONGITUD  100 non-null    float64\n",
      " 1   LATITUD   100 non-null    float64\n",
      "dtypes: float64(2)\n",
      "memory usage: 1.7 KB\n"
     ]
    }
   ],
   "source": [
    "#Iniciamos la creación del modelo \n",
    "#Selecciono los features de mi modelo \n",
    "features = [\"LONGITUD\", \"LATITUD\"]\n",
    "X_train = dflatlon[features]\n",
    "X_train.info()\n",
    "\n",
    "\n",
    "\n"
   ]
  },
  {
   "cell_type": "code",
   "execution_count": 25,
   "metadata": {},
   "outputs": [
    {
     "data": {
      "text/plain": [
       "0    5.33\n",
       "1    5.52\n",
       "2    3.59\n",
       "3    4.63\n",
       "4    5.18\n",
       "Name: PROM_GRAL, dtype: float64"
      ]
     },
     "execution_count": 25,
     "metadata": {},
     "output_type": "execute_result"
    }
   ],
   "source": [
    "#Creamos el vector objetivo \n",
    "target = \"PROM_GRAL\"\n",
    "y_train = dflatlon[target]\n",
    "y_train.head()"
   ]
  },
  {
   "cell_type": "code",
   "execution_count": 26,
   "metadata": {},
   "outputs": [],
   "source": [
    "#Calculamos la media de nuestro vector objetivo\n",
    "y_mean = y_train.mean()"
   ]
  },
  {
   "cell_type": "code",
   "execution_count": 27,
   "metadata": {},
   "outputs": [
    {
     "data": {
      "text/plain": [
       "[5.362300000000001,\n",
       " 5.362300000000001,\n",
       " 5.362300000000001,\n",
       " 5.362300000000001,\n",
       " 5.362300000000001]"
      ]
     },
     "execution_count": 27,
     "metadata": {},
     "output_type": "execute_result"
    }
   ],
   "source": [
    "#Calculamos nuestro modelo de referencia y_pred_baseline\n",
    "y_pred_baseline = [y_mean]*len(y_train)\n",
    "y_pred_baseline[0:5] #slice para ver solo los 5 primeros de la lista esto seria si siempre se repite el y_mean (modelo ideal)"
   ]
  },
  {
   "cell_type": "code",
   "execution_count": 28,
   "metadata": {},
   "outputs": [
    {
     "name": "stdout",
     "output_type": "stream",
     "text": [
      "media de calificaciones 8vo basico: 5.36\n",
      "Error modelo de referencia: 0.4\n",
      "el modelo es bueno, pero aun asi, siempre podemos mejorarlo, eso intentare.\n"
     ]
    }
   ],
   "source": [
    "#Calculemos el error entre el modelo de referencia y el modelo a entrenar \n",
    "mae_baseline = mean_absolute_error(y_train,y_pred_baseline)\n",
    "\n",
    "print(\"media de calificaciones 8vo basico:\", round(y_mean, 2))\n",
    "print(\"Error modelo de referencia:\", round(mae_baseline, 2))\n",
    "print(\"el modelo es bueno, pero aun asi, siempre podemos mejorarlo, eso intentare.\")"
   ]
  },
  {
   "cell_type": "code",
   "execution_count": 29,
   "metadata": {},
   "outputs": [
    {
     "name": "stdout",
     "output_type": "stream",
     "text": [
      "<class 'pandas.core.frame.DataFrame'>\n",
      "RangeIndex: 100 entries, 0 to 99\n",
      "Data columns (total 6 columns):\n",
      " #   Column       Non-Null Count  Dtype  \n",
      "---  ------       --------------  -----  \n",
      " 0   RBD          100 non-null    int64  \n",
      " 1   PROM_GRAL    100 non-null    float64\n",
      " 2   LATITUD      100 non-null    float64\n",
      " 3   LONGITUD     100 non-null    float64\n",
      " 4   NOM_COM_RBD  100 non-null    object \n",
      " 5   NOM_RBD      100 non-null    object \n",
      "dtypes: float64(3), int64(1), object(2)\n",
      "memory usage: 4.8+ KB\n"
     ]
    }
   ],
   "source": [
    "dflatlon.info()\n",
    "#Verificando que no tenga valores nulos que puedan afectar mi modelo "
   ]
  },
  {
   "cell_type": "code",
   "execution_count": 30,
   "metadata": {},
   "outputs": [],
   "source": [
    "#Creando mi pipeline\n",
    "model = make_pipeline(\n",
    "        LinearRegression()\n",
    "    \n",
    ")"
   ]
  },
  {
   "cell_type": "code",
   "execution_count": 31,
   "metadata": {},
   "outputs": [
    {
     "data": {
      "text/html": [
       "<style>#sk-container-id-1 {color: black;}#sk-container-id-1 pre{padding: 0;}#sk-container-id-1 div.sk-toggleable {background-color: white;}#sk-container-id-1 label.sk-toggleable__label {cursor: pointer;display: block;width: 100%;margin-bottom: 0;padding: 0.3em;box-sizing: border-box;text-align: center;}#sk-container-id-1 label.sk-toggleable__label-arrow:before {content: \"▸\";float: left;margin-right: 0.25em;color: #696969;}#sk-container-id-1 label.sk-toggleable__label-arrow:hover:before {color: black;}#sk-container-id-1 div.sk-estimator:hover label.sk-toggleable__label-arrow:before {color: black;}#sk-container-id-1 div.sk-toggleable__content {max-height: 0;max-width: 0;overflow: hidden;text-align: left;background-color: #f0f8ff;}#sk-container-id-1 div.sk-toggleable__content pre {margin: 0.2em;color: black;border-radius: 0.25em;background-color: #f0f8ff;}#sk-container-id-1 input.sk-toggleable__control:checked~div.sk-toggleable__content {max-height: 200px;max-width: 100%;overflow: auto;}#sk-container-id-1 input.sk-toggleable__control:checked~label.sk-toggleable__label-arrow:before {content: \"▾\";}#sk-container-id-1 div.sk-estimator input.sk-toggleable__control:checked~label.sk-toggleable__label {background-color: #d4ebff;}#sk-container-id-1 div.sk-label input.sk-toggleable__control:checked~label.sk-toggleable__label {background-color: #d4ebff;}#sk-container-id-1 input.sk-hidden--visually {border: 0;clip: rect(1px 1px 1px 1px);clip: rect(1px, 1px, 1px, 1px);height: 1px;margin: -1px;overflow: hidden;padding: 0;position: absolute;width: 1px;}#sk-container-id-1 div.sk-estimator {font-family: monospace;background-color: #f0f8ff;border: 1px dotted black;border-radius: 0.25em;box-sizing: border-box;margin-bottom: 0.5em;}#sk-container-id-1 div.sk-estimator:hover {background-color: #d4ebff;}#sk-container-id-1 div.sk-parallel-item::after {content: \"\";width: 100%;border-bottom: 1px solid gray;flex-grow: 1;}#sk-container-id-1 div.sk-label:hover label.sk-toggleable__label {background-color: #d4ebff;}#sk-container-id-1 div.sk-serial::before {content: \"\";position: absolute;border-left: 1px solid gray;box-sizing: border-box;top: 0;bottom: 0;left: 50%;z-index: 0;}#sk-container-id-1 div.sk-serial {display: flex;flex-direction: column;align-items: center;background-color: white;padding-right: 0.2em;padding-left: 0.2em;position: relative;}#sk-container-id-1 div.sk-item {position: relative;z-index: 1;}#sk-container-id-1 div.sk-parallel {display: flex;align-items: stretch;justify-content: center;background-color: white;position: relative;}#sk-container-id-1 div.sk-item::before, #sk-container-id-1 div.sk-parallel-item::before {content: \"\";position: absolute;border-left: 1px solid gray;box-sizing: border-box;top: 0;bottom: 0;left: 50%;z-index: -1;}#sk-container-id-1 div.sk-parallel-item {display: flex;flex-direction: column;z-index: 1;position: relative;background-color: white;}#sk-container-id-1 div.sk-parallel-item:first-child::after {align-self: flex-end;width: 50%;}#sk-container-id-1 div.sk-parallel-item:last-child::after {align-self: flex-start;width: 50%;}#sk-container-id-1 div.sk-parallel-item:only-child::after {width: 0;}#sk-container-id-1 div.sk-dashed-wrapped {border: 1px dashed gray;margin: 0 0.4em 0.5em 0.4em;box-sizing: border-box;padding-bottom: 0.4em;background-color: white;}#sk-container-id-1 div.sk-label label {font-family: monospace;font-weight: bold;display: inline-block;line-height: 1.2em;}#sk-container-id-1 div.sk-label-container {text-align: center;}#sk-container-id-1 div.sk-container {/* jupyter's `normalize.less` sets `[hidden] { display: none; }` but bootstrap.min.css set `[hidden] { display: none !important; }` so we also need the `!important` here to be able to override the default hidden behavior on the sphinx rendered scikit-learn.org. See: https://github.com/scikit-learn/scikit-learn/issues/21755 */display: inline-block !important;position: relative;}#sk-container-id-1 div.sk-text-repr-fallback {display: none;}</style><div id=\"sk-container-id-1\" class=\"sk-top-container\"><div class=\"sk-text-repr-fallback\"><pre>Pipeline(steps=[(&#x27;linearregression&#x27;, LinearRegression())])</pre><b>In a Jupyter environment, please rerun this cell to show the HTML representation or trust the notebook. <br />On GitHub, the HTML representation is unable to render, please try loading this page with nbviewer.org.</b></div><div class=\"sk-container\" hidden><div class=\"sk-item sk-dashed-wrapped\"><div class=\"sk-label-container\"><div class=\"sk-label sk-toggleable\"><input class=\"sk-toggleable__control sk-hidden--visually\" id=\"sk-estimator-id-1\" type=\"checkbox\" ><label for=\"sk-estimator-id-1\" class=\"sk-toggleable__label sk-toggleable__label-arrow\">Pipeline</label><div class=\"sk-toggleable__content\"><pre>Pipeline(steps=[(&#x27;linearregression&#x27;, LinearRegression())])</pre></div></div></div><div class=\"sk-serial\"><div class=\"sk-item\"><div class=\"sk-estimator sk-toggleable\"><input class=\"sk-toggleable__control sk-hidden--visually\" id=\"sk-estimator-id-2\" type=\"checkbox\" ><label for=\"sk-estimator-id-2\" class=\"sk-toggleable__label sk-toggleable__label-arrow\">LinearRegression</label><div class=\"sk-toggleable__content\"><pre>LinearRegression()</pre></div></div></div></div></div></div></div>"
      ],
      "text/plain": [
       "Pipeline(steps=[('linearregression', LinearRegression())])"
      ]
     },
     "execution_count": 31,
     "metadata": {},
     "output_type": "execute_result"
    }
   ],
   "source": [
    "#Ajusto mi feature y mi target y hago la creación de mi modelo\n",
    "model.fit(X_train,y_train)"
   ]
  },
  {
   "cell_type": "code",
   "execution_count": 32,
   "metadata": {},
   "outputs": [],
   "source": [
    "#Realizo las predicciones con el modelo recien creado \n",
    "y_pred_training = model.predict(X_train)"
   ]
  },
  {
   "cell_type": "code",
   "execution_count": 33,
   "metadata": {},
   "outputs": [
    {
     "data": {
      "text/plain": [
       "array([5.71555727, 5.55407095, 5.45989398, 5.30270002, 5.52454199])"
      ]
     },
     "execution_count": 33,
     "metadata": {},
     "output_type": "execute_result"
    }
   ],
   "source": [
    "#Observo las primeras cinco predicciones de mi modelo\n",
    "y_pred_training[0:5]"
   ]
  },
  {
   "cell_type": "code",
   "execution_count": 34,
   "metadata": {},
   "outputs": [
    {
     "name": "stdout",
     "output_type": "stream",
     "text": [
      "Training MAE: 0.39\n"
     ]
    }
   ],
   "source": [
    "#Veamos si mejoro el error 0.4 que habia obtenido anteriormente pero ahora con mi nuevo modelo \n",
    "mae_training = mean_absolute_error(y_train,y_pred_training)\n",
    "print(\"Training MAE:\", round(mae_training, 2))\n",
    "#El error anterior era 0.4 con el modelo base. hemos mejorado el error pero muy ligeramente no es tan significativo los features para ese target"
   ]
  },
  {
   "cell_type": "code",
   "execution_count": 35,
   "metadata": {},
   "outputs": [],
   "source": [
    "intercept = model.named_steps[\"linearregression\"].intercept_.round()\n",
    "coefficients = model.named_steps[\"linearregression\"].coef_.round()"
   ]
  },
  {
   "cell_type": "code",
   "execution_count": 36,
   "metadata": {},
   "outputs": [
    {
     "name": "stdout",
     "output_type": "stream",
     "text": [
      "notas = 485.0 + (9.0 * longitude) + (-4.0 * latitude)\n"
     ]
    }
   ],
   "source": [
    "print(\n",
    "    \n",
    "    f\"notas = {intercept} + ({coefficients[0]} * longitude) + ({coefficients[1]} * latitude)\"\n",
    ")"
   ]
  },
  {
   "cell_type": "code",
   "execution_count": 42,
   "metadata": {},
   "outputs": [
    {
     "name": "stdout",
     "output_type": "stream",
     "text": [
      "¿LATITUD es numérico? True\n",
      "¿LONGITUD es numérico? True\n"
     ]
    }
   ],
   "source": [
    "import pandas as pd\n",
    "\n",
    "# Verificar si 'LATITUD' es numérico en el DataFrame dflatlon\n",
    "dflatlon['LATITUD_numeric'] = pd.to_numeric(dflatlon['LATITUD'], errors='coerce')\n",
    "is_latitud_numeric = ~pd.isna(dflatlon['LATITUD_numeric'])\n",
    "\n",
    "# Verificar si 'LONGITUD' es numérico en el DataFrame dflatlon\n",
    "dflatlon['LONGITUD_numeric'] = pd.to_numeric(dflatlon['LONGITUD'], errors='coerce')\n",
    "is_longitud_numeric = ~pd.isna(dflatlon['LONGITUD_numeric'])\n",
    "\n",
    "# Imprimir resultados\n",
    "print(\"¿LATITUD es numérico?\", is_latitud_numeric.all())\n",
    "print(\"¿LONGITUD es numérico?\", is_longitud_numeric.all())\n"
   ]
  },
  {
   "cell_type": "code",
   "execution_count": 46,
   "metadata": {},
   "outputs": [
    {
     "data": {
      "application/vnd.plotly.v1+json": {
       "config": {
        "plotlyServerURL": "https://plot.ly"
       },
       "data": [
        {
         "hovertemplate": "<b>%{hovertext}</b><br><br>longitude=%{x}<br>latitude=%{y}<br>notas=%{z}<extra></extra>",
         "hovertext": [
          "LICEO EXPERIMENTAL ARTISTICO B-65",
          "COLEGIO ANGLO MAIPU",
          "LICEO SANTIAGO BUERAS Y AVARIA",
          "LICEO JOSE IGNACIO ZENTENO",
          "CENTRO DE EDUC. TECN.PROFESIONAL CODEDUC",
          "ESCUELA GENERAL SAN MARTIN",
          "ESCUELA GENERAL OHIGGINS",
          "ESCUELA PRESIDENTE RIESCO ERRAZURIZ",
          "ESCUELA VICENTE REYES PALAZUELOS",
          "ESCUELA BÁSICA N 263 RAMON FREIRE",
          "ESCUELA LEON HUMBERTO VALENZUELA",
          "ESCUELA EL LLANO DE MAIPU",
          "LICEO REINO DE DINAMARCA",
          "ESCUELA TOMAS VARGAS",
          "REPUBLICA DE GUATEMALA",
          "ESCUELA LAS AMERICAS",
          "ESCUELA BASICA REINA DE SUECIA",
          "LICEO SAN PEDRO POVEDA",
          "ESCUELA PARTICULAR INSTITUTO AMERICA",
          "COLEGIO POLIVALENTE CAMILO HENRIQUEZ",
          "CENTRO EDUCACIONAL PIAMARTINO CAROLINA LLONA DE CUEVAS",
          "COLEGIO PARTICULAR SAN FELIX",
          "COLEGIO DE LA PROVIDENCIA C.LARRAIN DE I",
          "COLEGIO POLIVALENTE PATRICIO MEKIS",
          "COLEGIO ALBERTO PEREZ",
          "COLEGIO SOFIA INFANTE HURTADO",
          "LICEO MATER PURISSIMA",
          "COLEGIO PARTICULAR DE ASIS",
          "COLEGIO ELLEN COLLEGE",
          "COLEGIO EL REDENTOR",
          "CENTRO EDUCACIONAL SAN ANDRES",
          "COLEGIO ROSITA SANCHEZ",
          "COMPLEJO EDUCACIONAL MAIPU",
          "ESCUELA PARTICULAR RUBEN DARIO",
          "COLEGIO SANTA URSULA",
          "ESCUELA BASICA  1287 SAN MARCOS APOSTOL",
          "COLEGIO JACQUES COUSTEAU",
          "COLEGIO LO ERRAZURIZ",
          "COLEGIO ALCAZAR",
          "ESCUELA BASICA PARTICULAR KIND`S SCHOOL",
          "COMPLEJO EDUCACIONAL ALBERTO WIDMER",
          "COLEGIO INTERNACIONAL  ALBA",
          "ESCUELA BÁSICA MUNICIPAL SAN LUIS",
          "COLEGIO SAN FRANCISCO MISIONERO",
          "COLEGIO EL REDENTOR",
          "COLEGIO CENTENARIO",
          "ESCUELA BASICA LOS BOSQUINOS",
          "ESC. BASICA BOSTON COLLEGE MAIPU",
          "ESCUELA PART. PEHUEN",
          "ESCUELA BASICA SAINT FRANCIS COLLEGE",
          "ESC. PARTICULAR ALFARERO",
          "COLEGIO VICTORIANO",
          "COLEGIO SAN NICOLAS DE MAIPU",
          "COLEGIO MUNIC.  SAN SEBASTIAN DE RINCONADA",
          "COL.PARTICULAR SAN VALENTIN DE MAIPU",
          "COLEGIO SANTA MARIA DE MAIPU",
          "ESC. PART. CHRIST SCHOOL",
          "ESC.BAS.NUEVOS CASTANOS DE MAIPU",
          "ESCUELA BÁSICA 1737 LOS ALERCES DE MAIPÚ",
          "INSTITUTO CRISTIANO LUIS GANDARILLAS",
          "ESCUELA BASICA PART. CRISTIANO DE LOS HEROES",
          "ESC. PART. CRISTIANO ORIENTE",
          "COLEGIO PART. CARDENAL CARLOS OVIEDO CAVADA",
          "COLEGIO PARTICULAR ALICANTE",
          "ESCUELA HERMANOS CARRERA",
          "COLEGIO PART. KING EDWARDS SCHOOL I",
          "COLEGIO INSTITUTO O¦HIGGINS DE MAIPU",
          "ESC. PART. ARTISTICA EL TRIGAL",
          "COLEGIO SAN ANDRES DE MAIPU",
          "ESC. BASICA PART. BOSTON COLLEGE LA FARFANA",
          "ESCUELA INSTITUTO RAMON FREIRE",
          "ESCUELA BASICA  N°1921 SISTER VERENANCE",
          "COLEGIO OXFORD",
          "COLEGIO LOS ALPES MAIPU",
          "COLEGIO NTRA. SRA. DEL CARMEN DE MAIPU",
          "COLEGIO PART. ALICANTE DEL ROSAL",
          "LINCOLN COLLEGE SAN MARTIN",
          "LICEO NACIONAL DE MAIPU",
          "COLEGIO PART. ROYAL AMERICAN SCHOOL",
          "COLEGIO POLIV. DIEGO PORTALES DE MAIPU",
          "ESC. BAS. PART. LAS NACIONES",
          "ESCUELA DE LAS ARTES Y LA TECNOLOGIA",
          "COLEGIO DEL VALLE",
          "ESC. PART. EL ARRAYAN DE MAIPU",
          "COLEGIO INTERCULTURAL TREMEMN",
          "COLEGIO CENTRO EDUCACIONAL ROUSSEAU",
          "COLEGIO DEL REAL",
          "COLEGIO SAN JUAN DIEGO DE GUADALUPE",
          "ESCUELA BAS. ECHAURREN N° 2",
          "COLEGIO SAINT LOUIS SCHOOL",
          "COLEGIO SAN FRANCISCO DE SALES",
          "ESC. ALTAS CUMBRES DEL ROSAL",
          "COLEGIO ALVARO LAVÍN",
          "COLEGIO TERRAUSTRAL DEL SOL",
          "COLEGIO TERRAUSTRAL OESTE S.A",
          "LICEO TECNOLOGICO BICENTENARIO ENRIQUE KIRBERG BALTIANSKY",
          "LICEO BICENTENARIO DE NIÑAS DE MAIPU",
          "COLEGIO SAN ANDRES MAIPU EL BOSQUE",
          "ESCUELA HOSPITALARIA EL CARMEN DE MAIPU",
          "ESCUELA INTERNACIONAL DE LIDERES CORONEL SANTIAGO BUERAS Y AVARIA"
         ],
         "legendgroup": "",
         "marker": {
          "color": "#636efa",
          "line": {
           "color": "DarkSlateGrey",
           "width": 2
          },
          "size": 4,
          "symbol": "circle"
         },
         "mode": "markers",
         "name": "",
         "scene": "scene",
         "showlegend": false,
         "type": "scatter3d",
         "x": [
          -70.688,
          -70.736,
          -70.752,
          -70.769,
          -70.747,
          -70.762,
          -70.763,
          -70.759,
          -70.751,
          -70.771,
          -70.765,
          -70.75,
          -70.783,
          -70.776,
          -70.75,
          -70.773,
          -70.756,
          -70.761,
          -70.765,
          -70.763,
          -70.764,
          -70.75,
          -70.766,
          -70.776,
          -70.759,
          -70.758,
          -70.747,
          -70.768,
          -70.767,
          -70.764,
          -70.748,
          -70.772,
          -70.775,
          -70.757,
          -70.751,
          -70.773,
          -70.786,
          -70.728,
          -70.791,
          -70.761,
          -70.757,
          -70.745,
          -70.785,
          -70.787,
          -70.752,
          -70.761,
          -70.773,
          -70.753,
          -70.753,
          -70.768,
          -70.777,
          -70.771,
          -70.756,
          -70.795,
          -70.742,
          -70.746,
          -70.765,
          -70.767,
          -70.778,
          -70.755,
          -70.789,
          -70.749,
          -70.795,
          -70.757,
          -70.75,
          -70.782,
          -70.757,
          -70.756,
          -70.738,
          -70.768,
          -70.757,
          -70.753,
          -70.763,
          -70.781,
          -70.769,
          -70.78,
          -70.778,
          -70.792,
          -70.762,
          -70.79,
          -70.787,
          -70.754,
          -70.782,
          -70.737,
          -70.762,
          -70.763,
          -70.768,
          -70.797,
          -70.739,
          -70.774,
          -70.791,
          -70.765,
          -70.764,
          -70.781,
          -70.791,
          -70.797,
          -70.784,
          -70.793,
          -70.774,
          -70.756
         ],
         "y": [
          -33.432,
          -33.494,
          -33.505,
          -33.503,
          -33.51,
          -33.51,
          -33.51,
          -33.526,
          -33.517,
          -33.499,
          -33.497,
          -33.517,
          -33.507,
          -33.5,
          -33.498,
          -33.548,
          -33.474,
          -33.496,
          -33.508,
          -33.515,
          -33.515,
          -33.5,
          -33.516,
          -33.511,
          -33.5,
          -33.526,
          -33.505,
          -33.511,
          -33.504,
          -33.503,
          -33.485,
          -33.527,
          -33.517,
          -33.519,
          -33.511,
          -33.545,
          -33.516,
          -33.474,
          -33.557,
          -33.496,
          -33.502,
          -33.481,
          -33.512,
          -33.565,
          -33.502,
          -33.5,
          -33.529,
          -33.467,
          -33.504,
          -33.506,
          -33.531,
          -33.512,
          -33.505,
          -33.509,
          -33.508,
          -33.484,
          -33.509,
          -33.509,
          -33.539,
          -33.504,
          -33.51,
          -33.475,
          -33.514,
          -33.475,
          -33.504,
          -33.525,
          -33.506,
          -33.5,
          -33.488,
          -33.49,
          -33.524,
          -33.507,
          -33.506,
          -33.565,
          -33.513,
          -33.491,
          -33.524,
          -33.519,
          -33.503,
          -33.51,
          -33.522,
          -33.5,
          -33.552,
          -33.48,
          -33.501,
          -33.486,
          -33.549,
          -33.512,
          -33.478,
          -33.563,
          -33.561,
          -33.486,
          -33.498,
          -33.5,
          -33.517,
          -33.528,
          -33.491,
          -33.546,
          -33.508,
          -33.505
         ],
         "z": [
          5.33,
          5.52,
          3.59,
          4.63,
          5.18,
          4.86,
          4.91,
          5.35,
          5.34,
          5.09,
          5.98,
          4.35,
          4.54,
          5.52,
          5.55,
          5.29,
          5.18,
          5.98,
          5.56,
          5.48,
          4.92,
          5.71,
          5.72,
          4.89,
          5.89,
          5.42,
          5.87,
          5.9,
          5.47,
          5.14,
          5.84,
          4.96,
          5.38,
          6.41,
          6.11,
          5.52,
          4.51,
          5.44,
          5.4,
          4.32,
          5.57,
          6.71,
          5.09,
          5.62,
          5.75,
          5.85,
          5.55,
          5.28,
          5.52,
          4.33,
          5.05,
          5.4,
          5.62,
          5.27,
          5.52,
          5.67,
          6.36,
          3.76,
          5.28,
          5.91,
          5.31,
          5.76,
          5.57,
          5.59,
          6.06,
          5,
          5.77,
          6.12,
          5.52,
          5.36,
          5.39,
          5.48,
          5.35,
          5.26,
          5.54,
          5.52,
          5.67,
          5.57,
          6.12,
          4.82,
          5.39,
          5.75,
          5.6,
          5.22,
          5.79,
          5.13,
          5.6,
          4.78,
          5.38,
          5.64,
          6.01,
          5.02,
          4.62,
          5.24,
          5.51,
          5.73,
          5.2,
          5.1,
          2.7,
          4.88
         ]
        },
        {
         "type": "surface",
         "x": [
          [
           -70.797,
           -70.78488888888889,
           -70.77277777777778,
           -70.76066666666667,
           -70.74855555555555,
           -70.73644444444444,
           -70.72433333333333,
           -70.71222222222222,
           -70.70011111111111,
           -70.688
          ],
          [
           -70.797,
           -70.78488888888889,
           -70.77277777777778,
           -70.76066666666667,
           -70.74855555555555,
           -70.73644444444444,
           -70.72433333333333,
           -70.71222222222222,
           -70.70011111111111,
           -70.688
          ],
          [
           -70.797,
           -70.78488888888889,
           -70.77277777777778,
           -70.76066666666667,
           -70.74855555555555,
           -70.73644444444444,
           -70.72433333333333,
           -70.71222222222222,
           -70.70011111111111,
           -70.688
          ],
          [
           -70.797,
           -70.78488888888889,
           -70.77277777777778,
           -70.76066666666667,
           -70.74855555555555,
           -70.73644444444444,
           -70.72433333333333,
           -70.71222222222222,
           -70.70011111111111,
           -70.688
          ],
          [
           -70.797,
           -70.78488888888889,
           -70.77277777777778,
           -70.76066666666667,
           -70.74855555555555,
           -70.73644444444444,
           -70.72433333333333,
           -70.71222222222222,
           -70.70011111111111,
           -70.688
          ],
          [
           -70.797,
           -70.78488888888889,
           -70.77277777777778,
           -70.76066666666667,
           -70.74855555555555,
           -70.73644444444444,
           -70.72433333333333,
           -70.71222222222222,
           -70.70011111111111,
           -70.688
          ],
          [
           -70.797,
           -70.78488888888889,
           -70.77277777777778,
           -70.76066666666667,
           -70.74855555555555,
           -70.73644444444444,
           -70.72433333333333,
           -70.71222222222222,
           -70.70011111111111,
           -70.688
          ],
          [
           -70.797,
           -70.78488888888889,
           -70.77277777777778,
           -70.76066666666667,
           -70.74855555555555,
           -70.73644444444444,
           -70.72433333333333,
           -70.71222222222222,
           -70.70011111111111,
           -70.688
          ],
          [
           -70.797,
           -70.78488888888889,
           -70.77277777777778,
           -70.76066666666667,
           -70.74855555555555,
           -70.73644444444444,
           -70.72433333333333,
           -70.71222222222222,
           -70.70011111111111,
           -70.688
          ],
          [
           -70.797,
           -70.78488888888889,
           -70.77277777777778,
           -70.76066666666667,
           -70.74855555555555,
           -70.73644444444444,
           -70.72433333333333,
           -70.71222222222222,
           -70.70011111111111,
           -70.688
          ]
         ],
         "y": [
          [
           -33.565,
           -33.565,
           -33.565,
           -33.565,
           -33.565,
           -33.565,
           -33.565,
           -33.565,
           -33.565,
           -33.565
          ],
          [
           -33.55022222222222,
           -33.55022222222222,
           -33.55022222222222,
           -33.55022222222222,
           -33.55022222222222,
           -33.55022222222222,
           -33.55022222222222,
           -33.55022222222222,
           -33.55022222222222,
           -33.55022222222222
          ],
          [
           -33.535444444444444,
           -33.535444444444444,
           -33.535444444444444,
           -33.535444444444444,
           -33.535444444444444,
           -33.535444444444444,
           -33.535444444444444,
           -33.535444444444444,
           -33.535444444444444,
           -33.535444444444444
          ],
          [
           -33.52066666666666,
           -33.52066666666666,
           -33.52066666666666,
           -33.52066666666666,
           -33.52066666666666,
           -33.52066666666666,
           -33.52066666666666,
           -33.52066666666666,
           -33.52066666666666,
           -33.52066666666666
          ],
          [
           -33.50588888888889,
           -33.50588888888889,
           -33.50588888888889,
           -33.50588888888889,
           -33.50588888888889,
           -33.50588888888889,
           -33.50588888888889,
           -33.50588888888889,
           -33.50588888888889,
           -33.50588888888889
          ],
          [
           -33.49111111111111,
           -33.49111111111111,
           -33.49111111111111,
           -33.49111111111111,
           -33.49111111111111,
           -33.49111111111111,
           -33.49111111111111,
           -33.49111111111111,
           -33.49111111111111,
           -33.49111111111111
          ],
          [
           -33.476333333333336,
           -33.476333333333336,
           -33.476333333333336,
           -33.476333333333336,
           -33.476333333333336,
           -33.476333333333336,
           -33.476333333333336,
           -33.476333333333336,
           -33.476333333333336,
           -33.476333333333336
          ],
          [
           -33.461555555555556,
           -33.461555555555556,
           -33.461555555555556,
           -33.461555555555556,
           -33.461555555555556,
           -33.461555555555556,
           -33.461555555555556,
           -33.461555555555556,
           -33.461555555555556,
           -33.461555555555556
          ],
          [
           -33.44677777777778,
           -33.44677777777778,
           -33.44677777777778,
           -33.44677777777778,
           -33.44677777777778,
           -33.44677777777778,
           -33.44677777777778,
           -33.44677777777778,
           -33.44677777777778,
           -33.44677777777778
          ],
          [
           -33.432,
           -33.432,
           -33.432,
           -33.432,
           -33.432,
           -33.432,
           -33.432,
           -33.432,
           -33.432,
           -33.432
          ]
         ],
         "z": [
          [
           5.316326709145017,
           5.360685660783361,
           5.4050446124217615,
           5.449403564060162,
           5.493762515698563,
           5.538121467336907,
           5.582480418975308,
           5.626839370613652,
           5.671198322252053,
           5.715557273890454
          ],
          [
           5.316326709145017,
           5.360685660783361,
           5.4050446124217615,
           5.449403564060162,
           5.493762515698563,
           5.538121467336907,
           5.582480418975308,
           5.626839370613652,
           5.671198322252053,
           5.715557273890454
          ],
          [
           5.316326709145017,
           5.360685660783361,
           5.4050446124217615,
           5.449403564060162,
           5.493762515698563,
           5.538121467336907,
           5.582480418975308,
           5.626839370613652,
           5.671198322252053,
           5.715557273890454
          ],
          [
           5.316326709145017,
           5.360685660783361,
           5.4050446124217615,
           5.449403564060162,
           5.493762515698563,
           5.538121467336907,
           5.582480418975308,
           5.626839370613652,
           5.671198322252053,
           5.715557273890454
          ],
          [
           5.316326709145017,
           5.360685660783361,
           5.4050446124217615,
           5.449403564060162,
           5.493762515698563,
           5.538121467336907,
           5.582480418975308,
           5.626839370613652,
           5.671198322252053,
           5.715557273890454
          ],
          [
           5.316326709145017,
           5.360685660783361,
           5.4050446124217615,
           5.449403564060162,
           5.493762515698563,
           5.538121467336907,
           5.582480418975308,
           5.626839370613652,
           5.671198322252053,
           5.715557273890454
          ],
          [
           5.316326709145017,
           5.360685660783361,
           5.4050446124217615,
           5.449403564060162,
           5.493762515698563,
           5.538121467336907,
           5.582480418975308,
           5.626839370613652,
           5.671198322252053,
           5.715557273890454
          ],
          [
           5.316326709145017,
           5.360685660783361,
           5.4050446124217615,
           5.449403564060162,
           5.493762515698563,
           5.538121467336907,
           5.582480418975308,
           5.626839370613652,
           5.671198322252053,
           5.715557273890454
          ],
          [
           5.316326709145017,
           5.360685660783361,
           5.4050446124217615,
           5.449403564060162,
           5.493762515698563,
           5.538121467336907,
           5.582480418975308,
           5.626839370613652,
           5.671198322252053,
           5.715557273890454
          ],
          [
           5.316326709145017,
           5.360685660783361,
           5.4050446124217615,
           5.449403564060162,
           5.493762515698563,
           5.538121467336907,
           5.582480418975308,
           5.626839370613652,
           5.671198322252053,
           5.715557273890454
          ]
         ]
        }
       ],
       "layout": {
        "height": 500,
        "legend": {
         "tracegroupgap": 0
        },
        "scene": {
         "domain": {
          "x": [
           0,
           1
          ],
          "y": [
           0,
           1
          ]
         },
         "xaxis": {
          "title": {
           "text": "longitude"
          }
         },
         "yaxis": {
          "title": {
           "text": "latitude"
          }
         },
         "zaxis": {
          "title": {
           "text": "notas"
          }
         }
        },
        "template": {
         "data": {
          "bar": [
           {
            "error_x": {
             "color": "#2a3f5f"
            },
            "error_y": {
             "color": "#2a3f5f"
            },
            "marker": {
             "line": {
              "color": "#E5ECF6",
              "width": 0.5
             },
             "pattern": {
              "fillmode": "overlay",
              "size": 10,
              "solidity": 0.2
             }
            },
            "type": "bar"
           }
          ],
          "barpolar": [
           {
            "marker": {
             "line": {
              "color": "#E5ECF6",
              "width": 0.5
             },
             "pattern": {
              "fillmode": "overlay",
              "size": 10,
              "solidity": 0.2
             }
            },
            "type": "barpolar"
           }
          ],
          "carpet": [
           {
            "aaxis": {
             "endlinecolor": "#2a3f5f",
             "gridcolor": "white",
             "linecolor": "white",
             "minorgridcolor": "white",
             "startlinecolor": "#2a3f5f"
            },
            "baxis": {
             "endlinecolor": "#2a3f5f",
             "gridcolor": "white",
             "linecolor": "white",
             "minorgridcolor": "white",
             "startlinecolor": "#2a3f5f"
            },
            "type": "carpet"
           }
          ],
          "choropleth": [
           {
            "colorbar": {
             "outlinewidth": 0,
             "ticks": ""
            },
            "type": "choropleth"
           }
          ],
          "contour": [
           {
            "colorbar": {
             "outlinewidth": 0,
             "ticks": ""
            },
            "colorscale": [
             [
              0,
              "#0d0887"
             ],
             [
              0.1111111111111111,
              "#46039f"
             ],
             [
              0.2222222222222222,
              "#7201a8"
             ],
             [
              0.3333333333333333,
              "#9c179e"
             ],
             [
              0.4444444444444444,
              "#bd3786"
             ],
             [
              0.5555555555555556,
              "#d8576b"
             ],
             [
              0.6666666666666666,
              "#ed7953"
             ],
             [
              0.7777777777777778,
              "#fb9f3a"
             ],
             [
              0.8888888888888888,
              "#fdca26"
             ],
             [
              1,
              "#f0f921"
             ]
            ],
            "type": "contour"
           }
          ],
          "contourcarpet": [
           {
            "colorbar": {
             "outlinewidth": 0,
             "ticks": ""
            },
            "type": "contourcarpet"
           }
          ],
          "heatmap": [
           {
            "colorbar": {
             "outlinewidth": 0,
             "ticks": ""
            },
            "colorscale": [
             [
              0,
              "#0d0887"
             ],
             [
              0.1111111111111111,
              "#46039f"
             ],
             [
              0.2222222222222222,
              "#7201a8"
             ],
             [
              0.3333333333333333,
              "#9c179e"
             ],
             [
              0.4444444444444444,
              "#bd3786"
             ],
             [
              0.5555555555555556,
              "#d8576b"
             ],
             [
              0.6666666666666666,
              "#ed7953"
             ],
             [
              0.7777777777777778,
              "#fb9f3a"
             ],
             [
              0.8888888888888888,
              "#fdca26"
             ],
             [
              1,
              "#f0f921"
             ]
            ],
            "type": "heatmap"
           }
          ],
          "heatmapgl": [
           {
            "colorbar": {
             "outlinewidth": 0,
             "ticks": ""
            },
            "colorscale": [
             [
              0,
              "#0d0887"
             ],
             [
              0.1111111111111111,
              "#46039f"
             ],
             [
              0.2222222222222222,
              "#7201a8"
             ],
             [
              0.3333333333333333,
              "#9c179e"
             ],
             [
              0.4444444444444444,
              "#bd3786"
             ],
             [
              0.5555555555555556,
              "#d8576b"
             ],
             [
              0.6666666666666666,
              "#ed7953"
             ],
             [
              0.7777777777777778,
              "#fb9f3a"
             ],
             [
              0.8888888888888888,
              "#fdca26"
             ],
             [
              1,
              "#f0f921"
             ]
            ],
            "type": "heatmapgl"
           }
          ],
          "histogram": [
           {
            "marker": {
             "pattern": {
              "fillmode": "overlay",
              "size": 10,
              "solidity": 0.2
             }
            },
            "type": "histogram"
           }
          ],
          "histogram2d": [
           {
            "colorbar": {
             "outlinewidth": 0,
             "ticks": ""
            },
            "colorscale": [
             [
              0,
              "#0d0887"
             ],
             [
              0.1111111111111111,
              "#46039f"
             ],
             [
              0.2222222222222222,
              "#7201a8"
             ],
             [
              0.3333333333333333,
              "#9c179e"
             ],
             [
              0.4444444444444444,
              "#bd3786"
             ],
             [
              0.5555555555555556,
              "#d8576b"
             ],
             [
              0.6666666666666666,
              "#ed7953"
             ],
             [
              0.7777777777777778,
              "#fb9f3a"
             ],
             [
              0.8888888888888888,
              "#fdca26"
             ],
             [
              1,
              "#f0f921"
             ]
            ],
            "type": "histogram2d"
           }
          ],
          "histogram2dcontour": [
           {
            "colorbar": {
             "outlinewidth": 0,
             "ticks": ""
            },
            "colorscale": [
             [
              0,
              "#0d0887"
             ],
             [
              0.1111111111111111,
              "#46039f"
             ],
             [
              0.2222222222222222,
              "#7201a8"
             ],
             [
              0.3333333333333333,
              "#9c179e"
             ],
             [
              0.4444444444444444,
              "#bd3786"
             ],
             [
              0.5555555555555556,
              "#d8576b"
             ],
             [
              0.6666666666666666,
              "#ed7953"
             ],
             [
              0.7777777777777778,
              "#fb9f3a"
             ],
             [
              0.8888888888888888,
              "#fdca26"
             ],
             [
              1,
              "#f0f921"
             ]
            ],
            "type": "histogram2dcontour"
           }
          ],
          "mesh3d": [
           {
            "colorbar": {
             "outlinewidth": 0,
             "ticks": ""
            },
            "type": "mesh3d"
           }
          ],
          "parcoords": [
           {
            "line": {
             "colorbar": {
              "outlinewidth": 0,
              "ticks": ""
             }
            },
            "type": "parcoords"
           }
          ],
          "pie": [
           {
            "automargin": true,
            "type": "pie"
           }
          ],
          "scatter": [
           {
            "fillpattern": {
             "fillmode": "overlay",
             "size": 10,
             "solidity": 0.2
            },
            "type": "scatter"
           }
          ],
          "scatter3d": [
           {
            "line": {
             "colorbar": {
              "outlinewidth": 0,
              "ticks": ""
             }
            },
            "marker": {
             "colorbar": {
              "outlinewidth": 0,
              "ticks": ""
             }
            },
            "type": "scatter3d"
           }
          ],
          "scattercarpet": [
           {
            "marker": {
             "colorbar": {
              "outlinewidth": 0,
              "ticks": ""
             }
            },
            "type": "scattercarpet"
           }
          ],
          "scattergeo": [
           {
            "marker": {
             "colorbar": {
              "outlinewidth": 0,
              "ticks": ""
             }
            },
            "type": "scattergeo"
           }
          ],
          "scattergl": [
           {
            "marker": {
             "colorbar": {
              "outlinewidth": 0,
              "ticks": ""
             }
            },
            "type": "scattergl"
           }
          ],
          "scattermapbox": [
           {
            "marker": {
             "colorbar": {
              "outlinewidth": 0,
              "ticks": ""
             }
            },
            "type": "scattermapbox"
           }
          ],
          "scatterpolar": [
           {
            "marker": {
             "colorbar": {
              "outlinewidth": 0,
              "ticks": ""
             }
            },
            "type": "scatterpolar"
           }
          ],
          "scatterpolargl": [
           {
            "marker": {
             "colorbar": {
              "outlinewidth": 0,
              "ticks": ""
             }
            },
            "type": "scatterpolargl"
           }
          ],
          "scatterternary": [
           {
            "marker": {
             "colorbar": {
              "outlinewidth": 0,
              "ticks": ""
             }
            },
            "type": "scatterternary"
           }
          ],
          "surface": [
           {
            "colorbar": {
             "outlinewidth": 0,
             "ticks": ""
            },
            "colorscale": [
             [
              0,
              "#0d0887"
             ],
             [
              0.1111111111111111,
              "#46039f"
             ],
             [
              0.2222222222222222,
              "#7201a8"
             ],
             [
              0.3333333333333333,
              "#9c179e"
             ],
             [
              0.4444444444444444,
              "#bd3786"
             ],
             [
              0.5555555555555556,
              "#d8576b"
             ],
             [
              0.6666666666666666,
              "#ed7953"
             ],
             [
              0.7777777777777778,
              "#fb9f3a"
             ],
             [
              0.8888888888888888,
              "#fdca26"
             ],
             [
              1,
              "#f0f921"
             ]
            ],
            "type": "surface"
           }
          ],
          "table": [
           {
            "cells": {
             "fill": {
              "color": "#EBF0F8"
             },
             "line": {
              "color": "white"
             }
            },
            "header": {
             "fill": {
              "color": "#C8D4E3"
             },
             "line": {
              "color": "white"
             }
            },
            "type": "table"
           }
          ]
         },
         "layout": {
          "annotationdefaults": {
           "arrowcolor": "#2a3f5f",
           "arrowhead": 0,
           "arrowwidth": 1
          },
          "autotypenumbers": "strict",
          "coloraxis": {
           "colorbar": {
            "outlinewidth": 0,
            "ticks": ""
           }
          },
          "colorscale": {
           "diverging": [
            [
             0,
             "#8e0152"
            ],
            [
             0.1,
             "#c51b7d"
            ],
            [
             0.2,
             "#de77ae"
            ],
            [
             0.3,
             "#f1b6da"
            ],
            [
             0.4,
             "#fde0ef"
            ],
            [
             0.5,
             "#f7f7f7"
            ],
            [
             0.6,
             "#e6f5d0"
            ],
            [
             0.7,
             "#b8e186"
            ],
            [
             0.8,
             "#7fbc41"
            ],
            [
             0.9,
             "#4d9221"
            ],
            [
             1,
             "#276419"
            ]
           ],
           "sequential": [
            [
             0,
             "#0d0887"
            ],
            [
             0.1111111111111111,
             "#46039f"
            ],
            [
             0.2222222222222222,
             "#7201a8"
            ],
            [
             0.3333333333333333,
             "#9c179e"
            ],
            [
             0.4444444444444444,
             "#bd3786"
            ],
            [
             0.5555555555555556,
             "#d8576b"
            ],
            [
             0.6666666666666666,
             "#ed7953"
            ],
            [
             0.7777777777777778,
             "#fb9f3a"
            ],
            [
             0.8888888888888888,
             "#fdca26"
            ],
            [
             1,
             "#f0f921"
            ]
           ],
           "sequentialminus": [
            [
             0,
             "#0d0887"
            ],
            [
             0.1111111111111111,
             "#46039f"
            ],
            [
             0.2222222222222222,
             "#7201a8"
            ],
            [
             0.3333333333333333,
             "#9c179e"
            ],
            [
             0.4444444444444444,
             "#bd3786"
            ],
            [
             0.5555555555555556,
             "#d8576b"
            ],
            [
             0.6666666666666666,
             "#ed7953"
            ],
            [
             0.7777777777777778,
             "#fb9f3a"
            ],
            [
             0.8888888888888888,
             "#fdca26"
            ],
            [
             1,
             "#f0f921"
            ]
           ]
          },
          "colorway": [
           "#636efa",
           "#EF553B",
           "#00cc96",
           "#ab63fa",
           "#FFA15A",
           "#19d3f3",
           "#FF6692",
           "#B6E880",
           "#FF97FF",
           "#FECB52"
          ],
          "font": {
           "color": "#2a3f5f"
          },
          "geo": {
           "bgcolor": "white",
           "lakecolor": "white",
           "landcolor": "#E5ECF6",
           "showlakes": true,
           "showland": true,
           "subunitcolor": "white"
          },
          "hoverlabel": {
           "align": "left"
          },
          "hovermode": "closest",
          "mapbox": {
           "style": "light"
          },
          "paper_bgcolor": "white",
          "plot_bgcolor": "#E5ECF6",
          "polar": {
           "angularaxis": {
            "gridcolor": "white",
            "linecolor": "white",
            "ticks": ""
           },
           "bgcolor": "#E5ECF6",
           "radialaxis": {
            "gridcolor": "white",
            "linecolor": "white",
            "ticks": ""
           }
          },
          "scene": {
           "xaxis": {
            "backgroundcolor": "#E5ECF6",
            "gridcolor": "white",
            "gridwidth": 2,
            "linecolor": "white",
            "showbackground": true,
            "ticks": "",
            "zerolinecolor": "white"
           },
           "yaxis": {
            "backgroundcolor": "#E5ECF6",
            "gridcolor": "white",
            "gridwidth": 2,
            "linecolor": "white",
            "showbackground": true,
            "ticks": "",
            "zerolinecolor": "white"
           },
           "zaxis": {
            "backgroundcolor": "#E5ECF6",
            "gridcolor": "white",
            "gridwidth": 2,
            "linecolor": "white",
            "showbackground": true,
            "ticks": "",
            "zerolinecolor": "white"
           }
          },
          "shapedefaults": {
           "line": {
            "color": "#2a3f5f"
           }
          },
          "ternary": {
           "aaxis": {
            "gridcolor": "white",
            "linecolor": "white",
            "ticks": ""
           },
           "baxis": {
            "gridcolor": "white",
            "linecolor": "white",
            "ticks": ""
           },
           "bgcolor": "#E5ECF6",
           "caxis": {
            "gridcolor": "white",
            "linecolor": "white",
            "ticks": ""
           }
          },
          "title": {
           "x": 0.05
          },
          "xaxis": {
           "automargin": true,
           "gridcolor": "white",
           "linecolor": "white",
           "ticks": "",
           "title": {
            "standoff": 15
           },
           "zerolinecolor": "white",
           "zerolinewidth": 2
          },
          "yaxis": {
           "automargin": true,
           "gridcolor": "white",
           "linecolor": "white",
           "ticks": "",
           "title": {
            "standoff": 15
           },
           "zerolinecolor": "white",
           "zerolinewidth": 2
          }
         }
        },
        "title": {
         "text": "Calificaciones 8vo Básico 2022. Maipu"
        },
        "width": 600
       }
      }
     },
     "metadata": {},
     "output_type": "display_data"
    }
   ],
   "source": [
    "import numpy as np\n",
    "import pandas as pd\n",
    "import plotly.express as px\n",
    "import plotly.graph_objects as go\n",
    "\n",
    "# Crear 3D scatter plot\n",
    "fig = px.scatter_3d(\n",
    "    dflatlon,\n",
    "    x=\"LONGITUD\",\n",
    "    y=\"LATITUD\",\n",
    "    z='PROM_GRAL',\n",
    "    labels={\"LONGITUD\": \"longitude\", \"LATITUD\": \"latitude\", \"PROM_GRAL\": \"notas\"},\n",
    "    title=\"Calificaciones 8vo Básico 2022. Maipu\",  # Agregar título\n",
    "    hover_name=\"NOM_RBD\",  # Mostrar \"NOM_RBD\" al deslizar el cursor sobre el punto\n",
    "    width=600,\n",
    "    height=500,\n",
    ")\n",
    "\n",
    "# Crear x e y coordenadas para la representación del modelo\n",
    "x_plane = np.linspace(dflatlon[\"LONGITUD\"].min(), dflatlon[\"LONGITUD\"].max(), 10)\n",
    "y_plane = np.linspace(dflatlon[\"LATITUD\"].min(), dflatlon[\"LATITUD\"].max(), 10)\n",
    "xx, yy = np.meshgrid(x_plane, y_plane)\n",
    "\n",
    "# Usar el modelo para predecir coordenadas z\n",
    "z_plane = model.predict(pd.DataFrame({\"LONGITUD\": x_plane, \"LATITUD\": y_plane}))\n",
    "zz = np.tile(z_plane, (10, 1))\n",
    "\n",
    "# Agregar el plano a la figura\n",
    "fig.add_trace(go.Surface(x=xx, y=yy, z=zz))\n",
    "\n",
    "# Refinar formato\n",
    "fig.update_traces(\n",
    "    marker={\"size\": 4, \"line\": {\"width\": 2, \"color\": \"DarkSlateGrey\"}},\n",
    "    selector={\"mode\": \"markers\"},\n",
    ")\n",
    "\n",
    "# Mostrar la figura\n",
    "fig.show()\n",
    "\n"
   ]
  },
  {
   "cell_type": "code",
   "execution_count": null,
   "metadata": {},
   "outputs": [],
   "source": []
  }
 ],
 "metadata": {
  "kernelspec": {
   "display_name": "Python 3",
   "language": "python",
   "name": "python3"
  },
  "language_info": {
   "codemirror_mode": {
    "name": "ipython",
    "version": 3
   },
   "file_extension": ".py",
   "mimetype": "text/x-python",
   "name": "python",
   "nbconvert_exporter": "python",
   "pygments_lexer": "ipython3",
   "version": "3.11.4"
  },
  "orig_nbformat": 4
 },
 "nbformat": 4,
 "nbformat_minor": 2
}
